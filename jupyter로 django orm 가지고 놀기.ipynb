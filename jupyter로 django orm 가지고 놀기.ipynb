{
 "cells": [
  {
   "cell_type": "code",
   "execution_count": 1,
   "id": "55906f0a",
   "metadata": {},
   "outputs": [],
   "source": [
    "import os, sys\n",
    "PWD = os.getenv('PWD')\n",
    "\n",
    "PROJ_MISSING_MSG = \"\"\"Set an enviroment variable:\\n\n",
    "`DJANGO_PROJECT=your_project_name`\\n\n",
    "or call:\\n\n",
    "`init_django(your_project_name)`\n",
    "\"\"\"\n",
    "\n",
    "def init_django(project_name=None):\n",
    "    os.chdir(PWD)\n",
    "    project_name = project_name or os.environ.get('DJANGO_PROJECT') or None\n",
    "    if project_name == None:\n",
    "        raise Exception(PROJ_MISSING_MSG)\n",
    "    sys.path.insert(0, os.getenv('PWD'))\n",
    "    os.environ.setdefault('DJANGO_SETTINGS_MODULE', f'{project_name}.settings')\n",
    "    os.environ[\"DJANGO_ALLOW_ASYNC_UNSAFE\"] = \"true\"\n",
    "    import django\n",
    "    django.setup()"
   ]
  },
  {
   "cell_type": "code",
   "execution_count": 2,
   "id": "c3667237",
   "metadata": {
    "pycharm": {
     "name": ""
    }
   },
   "outputs": [],
   "source": [
    "init_django('mysite')"
   ]
  },
  {
   "cell_type": "markdown",
   "id": "62da1dd1",
   "metadata": {},
   "source": [
    "# model import"
   ]
  },
  {
   "cell_type": "code",
   "execution_count": 3,
   "id": "6d50fb38",
   "metadata": {},
   "outputs": [],
   "source": [
    "from polls.models import Choice, Question"
   ]
  },
  {
   "cell_type": "markdown",
   "id": "19207d0a",
   "metadata": {},
   "source": [
    "# 조회하기"
   ]
  },
  {
   "cell_type": "code",
   "execution_count": 110,
   "id": "86e77f0d",
   "metadata": {
    "scrolled": true
   },
   "outputs": [
    {
     "data": {
      "text/plain": [
       "<QuerySet [<Question: Question(1): 뭐가 바뀌었니?>, <Question: Question(2): django 재밌어요?>, <Question: Question(3): 마지막 질문이 뭔가요?>, <Question: Question(4): 뭐가 바뀌었니?>, <Question: Question(5): django 재밌어요?>, <Question: Question(6): 마지막 질문이 뭔가요?>, <Question: Question(7): 뭐가 바뀌었니?>, <Question: Question(8): django 재밌어요?>, <Question: Question(9): 마지막 질문이 뭔가요?>]>"
      ]
     },
     "execution_count": 110,
     "metadata": {},
     "output_type": "execute_result"
    }
   ],
   "source": [
    "Question.objects.all()"
   ]
  },
  {
   "cell_type": "code",
   "execution_count": 111,
   "id": "f0b2b669",
   "metadata": {},
   "outputs": [],
   "source": [
    "from django.utils import timezone"
   ]
  },
  {
   "cell_type": "markdown",
   "id": "4a4a28fe",
   "metadata": {},
   "source": [
    "# 추가하기"
   ]
  },
  {
   "cell_type": "code",
   "execution_count": 112,
   "id": "11a66e9d",
   "metadata": {},
   "outputs": [
    {
     "data": {
      "text/plain": [
       "<Question: Question(None): 뭐가 바뀌었니?>"
      ]
     },
     "execution_count": 112,
     "metadata": {},
     "output_type": "execute_result"
    }
   ],
   "source": [
    "q = Question(question_text=\"뭐가 바뀌었니?\", pub_date=timezone.now())\n",
    "q"
   ]
  },
  {
   "cell_type": "code",
   "execution_count": 113,
   "id": "a79cf5be",
   "metadata": {},
   "outputs": [],
   "source": [
    "q.save()"
   ]
  },
  {
   "cell_type": "code",
   "execution_count": 114,
   "id": "0c10570e",
   "metadata": {},
   "outputs": [
    {
     "data": {
      "text/plain": [
       "10"
      ]
     },
     "execution_count": 114,
     "metadata": {},
     "output_type": "execute_result"
    }
   ],
   "source": [
    "q.id"
   ]
  },
  {
   "cell_type": "code",
   "execution_count": 115,
   "id": "2a2a38ef",
   "metadata": {},
   "outputs": [
    {
     "data": {
      "text/plain": [
       "<QuerySet [<Question: Question(1): 뭐가 바뀌었니?>, <Question: Question(2): django 재밌어요?>, <Question: Question(3): 마지막 질문이 뭔가요?>, <Question: Question(4): 뭐가 바뀌었니?>, <Question: Question(5): django 재밌어요?>, <Question: Question(6): 마지막 질문이 뭔가요?>, <Question: Question(7): 뭐가 바뀌었니?>, <Question: Question(8): django 재밌어요?>, <Question: Question(9): 마지막 질문이 뭔가요?>, <Question: Question(10): 뭐가 바뀌었니?>]>"
      ]
     },
     "execution_count": 115,
     "metadata": {},
     "output_type": "execute_result"
    }
   ],
   "source": [
    "Question.objects.all()"
   ]
  },
  {
   "cell_type": "code",
   "execution_count": 116,
   "id": "85607a10",
   "metadata": {},
   "outputs": [
    {
     "data": {
      "text/plain": [
       "<Question: Question(11): django 재밌어요?>"
      ]
     },
     "execution_count": 116,
     "metadata": {},
     "output_type": "execute_result"
    }
   ],
   "source": [
    "q = Question(question_text=\"django 재밌어요?\", pub_date=timezone.now())\n",
    "q.save()\n",
    "q"
   ]
  },
  {
   "cell_type": "code",
   "execution_count": 117,
   "id": "c01a06f3",
   "metadata": {},
   "outputs": [],
   "source": [
    "q = Question(question_text=\"마지막 질문이 뭔가요?\", pub_date=timezone.now())\n",
    "q.save()"
   ]
  },
  {
   "cell_type": "code",
   "execution_count": 118,
   "id": "eb9594ac",
   "metadata": {},
   "outputs": [
    {
     "data": {
      "text/plain": [
       "<QuerySet [<Question: Question(1): 뭐가 바뀌었니?>, <Question: Question(2): django 재밌어요?>, <Question: Question(3): 마지막 질문이 뭔가요?>, <Question: Question(4): 뭐가 바뀌었니?>, <Question: Question(5): django 재밌어요?>, <Question: Question(6): 마지막 질문이 뭔가요?>, <Question: Question(7): 뭐가 바뀌었니?>, <Question: Question(8): django 재밌어요?>, <Question: Question(9): 마지막 질문이 뭔가요?>, <Question: Question(10): 뭐가 바뀌었니?>, <Question: Question(11): django 재밌어요?>, <Question: Question(12): 마지막 질문이 뭔가요?>]>"
      ]
     },
     "execution_count": 118,
     "metadata": {},
     "output_type": "execute_result"
    }
   ],
   "source": [
    "Question.objects.all()"
   ]
  },
  {
   "cell_type": "code",
   "execution_count": 119,
   "id": "7d867a24",
   "metadata": {},
   "outputs": [
    {
     "data": {
      "text/plain": [
       "<QuerySet [<Question: Question(12): 마지막 질문이 뭔가요?>, <Question: Question(11): django 재밌어요?>, <Question: Question(10): 뭐가 바뀌었니?>]>"
      ]
     },
     "execution_count": 119,
     "metadata": {},
     "output_type": "execute_result"
    }
   ],
   "source": [
    "Question.objects.all().order_by('-id')[:3]"
   ]
  },
  {
   "cell_type": "code",
   "execution_count": 120,
   "id": "6ff6499f",
   "metadata": {},
   "outputs": [
    {
     "data": {
      "text/plain": [
       "[<Question: Question(1): 뭐가 바뀌었니?>, <Question: Question(2): django 재밌어요?>]"
      ]
     },
     "execution_count": 120,
     "metadata": {},
     "output_type": "execute_result"
    }
   ],
   "source": [
    "result = Question.objects.raw('SELECT * FROM polls_question')\n",
    "result[:2]"
   ]
  },
  {
   "cell_type": "code",
   "execution_count": 121,
   "id": "f0fad7ba",
   "metadata": {},
   "outputs": [
    {
     "data": {
      "text/plain": [
       "<QuerySet [<Question: Question(1): 뭐가 바뀌었니?>, <Question: Question(2): django 재밌어요?>, <Question: Question(3): 마지막 질문이 뭔가요?>, <Question: Question(4): 뭐가 바뀌었니?>, <Question: Question(5): django 재밌어요?>, <Question: Question(6): 마지막 질문이 뭔가요?>, <Question: Question(7): 뭐가 바뀌었니?>, <Question: Question(8): django 재밌어요?>, <Question: Question(9): 마지막 질문이 뭔가요?>, <Question: Question(10): 뭐가 바뀌었니?>, <Question: Question(11): django 재밌어요?>, <Question: Question(12): 마지막 질문이 뭔가요?>]>"
      ]
     },
     "execution_count": 121,
     "metadata": {},
     "output_type": "execute_result"
    }
   ],
   "source": [
    "from django.db.models import Count, Sum\n",
    "from django.db.models import Q, F\n",
    "\n",
    "q = Question.objects.annotate(\n",
    "    max_count=Count('question_text'), changed_name=F('question_text'), sum_id=Sum('id')\n",
    ").all()\n",
    "q"
   ]
  },
  {
   "cell_type": "code",
   "execution_count": 122,
   "id": "c5d3157d",
   "metadata": {},
   "outputs": [
    {
     "data": {
      "text/plain": [
       "<QuerySet [{'question_text': '뭐가 바뀌었니?', 'max_count': 1, 'changed_name': '뭐가 바뀌었니?', 'sum_id': Decimal('1')}, {'question_text': 'django 재밌어요?', 'max_count': 1, 'changed_name': 'django 재밌어요?', 'sum_id': Decimal('2')}, {'question_text': '마지막 질문이 뭔가요?', 'max_count': 1, 'changed_name': '마지막 질문이 뭔가요?', 'sum_id': Decimal('3')}, {'question_text': '뭐가 바뀌었니?', 'max_count': 1, 'changed_name': '뭐가 바뀌었니?', 'sum_id': Decimal('4')}, {'question_text': 'django 재밌어요?', 'max_count': 1, 'changed_name': 'django 재밌어요?', 'sum_id': Decimal('5')}, {'question_text': '마지막 질문이 뭔가요?', 'max_count': 1, 'changed_name': '마지막 질문이 뭔가요?', 'sum_id': Decimal('6')}, {'question_text': '뭐가 바뀌었니?', 'max_count': 1, 'changed_name': '뭐가 바뀌었니?', 'sum_id': Decimal('7')}, {'question_text': 'django 재밌어요?', 'max_count': 1, 'changed_name': 'django 재밌어요?', 'sum_id': Decimal('8')}, {'question_text': '마지막 질문이 뭔가요?', 'max_count': 1, 'changed_name': '마지막 질문이 뭔가요?', 'sum_id': Decimal('9')}, {'question_text': '뭐가 바뀌었니?', 'max_count': 1, 'changed_name': '뭐가 바뀌었니?', 'sum_id': Decimal('10')}, {'question_text': 'django 재밌어요?', 'max_count': 1, 'changed_name': 'django 재밌어요?', 'sum_id': Decimal('11')}, {'question_text': '마지막 질문이 뭔가요?', 'max_count': 1, 'changed_name': '마지막 질문이 뭔가요?', 'sum_id': Decimal('12')}]>"
      ]
     },
     "execution_count": 122,
     "metadata": {},
     "output_type": "execute_result"
    }
   ],
   "source": [
    "q.values('changed_name', 'question_text', 'max_count', 'sum_id')"
   ]
  },
  {
   "cell_type": "markdown",
   "id": "2289bb32",
   "metadata": {},
   "source": [
    "# 조회하기 고급"
   ]
  },
  {
   "cell_type": "code",
   "execution_count": 123,
   "id": "ac4d8b2f",
   "metadata": {},
   "outputs": [
    {
     "data": {
      "text/plain": [
       "<Question: Question(3): 마지막 질문이 뭔가요?>"
      ]
     },
     "execution_count": 123,
     "metadata": {},
     "output_type": "execute_result"
    }
   ],
   "source": [
    "q_1 = Question.objects.get(id=3)\n",
    "q_1"
   ]
  },
  {
   "cell_type": "code",
   "execution_count": 124,
   "id": "fed3aa1e",
   "metadata": {},
   "outputs": [
    {
     "data": {
      "text/plain": [
       "<QuerySet [<Question: Question(1): 뭐가 바뀌었니?>]>"
      ]
     },
     "execution_count": 124,
     "metadata": {},
     "output_type": "execute_result"
    }
   ],
   "source": [
    "q_2 = Question.objects.filter(id=1).all()\n",
    "q_2"
   ]
  },
  {
   "cell_type": "markdown",
   "id": "03fb1f2b",
   "metadata": {},
   "source": [
    "## not표시"
   ]
  },
  {
   "cell_type": "code",
   "execution_count": 125,
   "id": "3bb45da4",
   "metadata": {},
   "outputs": [
    {
     "data": {
      "text/plain": [
       "<QuerySet [<Question: Question(2): django 재밌어요?>, <Question: Question(3): 마지막 질문이 뭔가요?>, <Question: Question(4): 뭐가 바뀌었니?>, <Question: Question(5): django 재밌어요?>, <Question: Question(6): 마지막 질문이 뭔가요?>, <Question: Question(7): 뭐가 바뀌었니?>, <Question: Question(8): django 재밌어요?>, <Question: Question(9): 마지막 질문이 뭔가요?>, <Question: Question(10): 뭐가 바뀌었니?>, <Question: Question(11): django 재밌어요?>, <Question: Question(12): 마지막 질문이 뭔가요?>]>"
      ]
     },
     "execution_count": 125,
     "metadata": {},
     "output_type": "execute_result"
    }
   ],
   "source": [
    "q_3 = Question.objects.exclude(id=1).all()\n",
    "q_3"
   ]
  },
  {
   "cell_type": "code",
   "execution_count": 126,
   "id": "521b25ba",
   "metadata": {},
   "outputs": [
    {
     "data": {
      "text/plain": [
       "<QuerySet [<Question: Question(1): 뭐가 바뀌었니?>, <Question: Question(3): 마지막 질문이 뭔가요?>, <Question: Question(4): 뭐가 바뀌었니?>, <Question: Question(6): 마지막 질문이 뭔가요?>, <Question: Question(7): 뭐가 바뀌었니?>, <Question: Question(9): 마지막 질문이 뭔가요?>, <Question: Question(10): 뭐가 바뀌었니?>, <Question: Question(12): 마지막 질문이 뭔가요?>]>"
      ]
     },
     "execution_count": 126,
     "metadata": {},
     "output_type": "execute_result"
    }
   ],
   "source": [
    "\n",
    "\n",
    "q_4 = Question.objects.filter(~Q(question_text__startswith='django')).all()\n",
    "q_4"
   ]
  },
  {
   "cell_type": "markdown",
   "id": "fbdbbbf9",
   "metadata": {},
   "source": [
    "# 관계 맺기"
   ]
  },
  {
   "cell_type": "code",
   "execution_count": 127,
   "id": "e3e01bfc",
   "metadata": {},
   "outputs": [
    {
     "data": {
      "text/plain": [
       "<Question: Question(1): 뭐가 바뀌었니?>"
      ]
     },
     "execution_count": 127,
     "metadata": {},
     "output_type": "execute_result"
    }
   ],
   "source": [
    "q = Question.objects.get(id=1)\n",
    "q"
   ]
  },
  {
   "cell_type": "code",
   "execution_count": 128,
   "id": "2ce87892",
   "metadata": {},
   "outputs": [],
   "source": [
    "c = Choice(\n",
    "    question=q,\n",
    "    choice_text=\"답안1번\"\n",
    ")\n",
    "c.save()"
   ]
  },
  {
   "cell_type": "code",
   "execution_count": 129,
   "id": "36c3c342",
   "metadata": {},
   "outputs": [],
   "source": [
    "c = Choice(\n",
    "    question=q,\n",
    "    choice_text=\"답안2번\"\n",
    ")\n",
    "c.save()"
   ]
  },
  {
   "cell_type": "code",
   "execution_count": 130,
   "id": "03c2d4c0",
   "metadata": {},
   "outputs": [],
   "source": [
    "q2 = Question.objects.get(id=2)\n",
    "\n",
    "c = Choice(\n",
    "    question=q2,\n",
    "    choice_text=\"답안2-1번\"\n",
    ")\n",
    "c.save()"
   ]
  },
  {
   "cell_type": "code",
   "execution_count": 131,
   "id": "1cfd3d94",
   "metadata": {},
   "outputs": [
    {
     "data": {
      "text/plain": [
       "<QuerySet [<Choice: Choice(2): 답안을 바꿔버러요>, <Choice: Choice(3): 답안2-1번>, <Choice: Choice(4): 답안1번>, <Choice: Choice(5): 답안2번>, <Choice: Choice(6): 답안2-1번>, <Choice: Choice(7): 답안1번>, <Choice: Choice(8): 답안2번>, <Choice: Choice(9): 답안2-1번>, <Choice: Choice(10): 이렇게 넣을 수도 있어요.dddsss>, <Choice: Choice(11): 답안1번>, <Choice: Choice(12): 답안2번>, <Choice: Choice(13): 답안2-1번>]>"
      ]
     },
     "execution_count": 131,
     "metadata": {},
     "output_type": "execute_result"
    }
   ],
   "source": [
    "Choice.objects.all()"
   ]
  },
  {
   "cell_type": "code",
   "execution_count": 132,
   "id": "dadb5e33",
   "metadata": {},
   "outputs": [
    {
     "data": {
      "text/plain": [
       "<QuerySet [<Choice: Choice(2): 답안을 바꿔버러요>, <Choice: Choice(4): 답안1번>, <Choice: Choice(5): 답안2번>, <Choice: Choice(7): 답안1번>, <Choice: Choice(8): 답안2번>, <Choice: Choice(10): 이렇게 넣을 수도 있어요.dddsss>, <Choice: Choice(11): 답안1번>, <Choice: Choice(12): 답안2번>]>"
      ]
     },
     "execution_count": 132,
     "metadata": {},
     "output_type": "execute_result"
    }
   ],
   "source": [
    "Choice.objects.filter(question=q)"
   ]
  },
  {
   "cell_type": "code",
   "execution_count": 133,
   "id": "934f4824",
   "metadata": {},
   "outputs": [
    {
     "data": {
      "text/plain": [
       "<QuerySet [<Choice: Choice(2): 답안을 바꿔버러요>, <Choice: Choice(4): 답안1번>, <Choice: Choice(5): 답안2번>, <Choice: Choice(7): 답안1번>, <Choice: Choice(8): 답안2번>, <Choice: Choice(10): 이렇게 넣을 수도 있어요.dddsss>, <Choice: Choice(11): 답안1번>, <Choice: Choice(12): 답안2번>]>"
      ]
     },
     "execution_count": 133,
     "metadata": {},
     "output_type": "execute_result"
    }
   ],
   "source": [
    "Choice.objects.filter(question_id=q.id)"
   ]
  },
  {
   "cell_type": "code",
   "execution_count": 134,
   "id": "272a03c5",
   "metadata": {},
   "outputs": [
    {
     "data": {
      "text/plain": [
       "<Question: Question(1): 뭐가 바뀌었니?>"
      ]
     },
     "execution_count": 134,
     "metadata": {},
     "output_type": "execute_result"
    }
   ],
   "source": [
    "q = Question.objects.get(id=1)\n",
    "q"
   ]
  },
  {
   "cell_type": "code",
   "execution_count": 135,
   "id": "1fbbec2b",
   "metadata": {},
   "outputs": [
    {
     "data": {
      "text/plain": [
       "<QuerySet [<Choice: Choice(2): 답안을 바꿔버러요>, <Choice: Choice(4): 답안1번>, <Choice: Choice(5): 답안2번>, <Choice: Choice(7): 답안1번>, <Choice: Choice(8): 답안2번>, <Choice: Choice(10): 이렇게 넣을 수도 있어요.dddsss>, <Choice: Choice(11): 답안1번>, <Choice: Choice(12): 답안2번>]>"
      ]
     },
     "execution_count": 135,
     "metadata": {},
     "output_type": "execute_result"
    }
   ],
   "source": [
    "# 연관지어 가져오기\n",
    "q.choice_set.all()"
   ]
  },
  {
   "cell_type": "code",
   "execution_count": 29,
   "id": "06d5491e",
   "metadata": {},
   "outputs": [
    {
     "data": {
      "text/plain": [
       "<Choice: Choice(10): 이렇게 넣을 수도 있어요.>"
      ]
     },
     "execution_count": 29,
     "metadata": {},
     "output_type": "execute_result"
    }
   ],
   "source": [
    "q.choice_set.create(choice_text='이렇게 넣을 수도 있어요.', votes=0)"
   ]
  },
  {
   "cell_type": "code",
   "execution_count": 30,
   "id": "fefda42e",
   "metadata": {},
   "outputs": [
    {
     "data": {
      "text/plain": [
       "<QuerySet [<Choice: Choice(1): 답안1번>, <Choice: Choice(2): 답안2번>, <Choice: Choice(4): 답안1번>, <Choice: Choice(5): 답안2번>, <Choice: Choice(7): 답안1번>, <Choice: Choice(8): 답안2번>, <Choice: Choice(10): 이렇게 넣을 수도 있어요.>]>"
      ]
     },
     "execution_count": 30,
     "metadata": {},
     "output_type": "execute_result"
    }
   ],
   "source": [
    "q.choice_set.all()"
   ]
  },
  {
   "cell_type": "code",
   "execution_count": 31,
   "id": "3f5848f2",
   "metadata": {},
   "outputs": [
    {
     "data": {
      "text/plain": [
       "7"
      ]
     },
     "execution_count": 31,
     "metadata": {},
     "output_type": "execute_result"
    }
   ],
   "source": [
    "q.choice_set.count()"
   ]
  },
  {
   "cell_type": "code",
   "execution_count": 38,
   "id": "60d59c53",
   "metadata": {},
   "outputs": [
    {
     "data": {
      "text/plain": [
       "<QuerySet [<Choice: Choice(1): 답안1번>]>"
      ]
     },
     "execution_count": 38,
     "metadata": {},
     "output_type": "execute_result"
    }
   ],
   "source": [
    "c1 = q.choice_set.filter(id=1)\n",
    "c1"
   ]
  },
  {
   "cell_type": "code",
   "execution_count": 39,
   "id": "4efaee52",
   "metadata": {},
   "outputs": [
    {
     "data": {
      "text/plain": [
       "(1, {'polls.Choice': 1})"
      ]
     },
     "execution_count": 39,
     "metadata": {},
     "output_type": "execute_result"
    }
   ],
   "source": [
    "c1.delete()"
   ]
  },
  {
   "cell_type": "code",
   "execution_count": 42,
   "id": "b3afccac",
   "metadata": {},
   "outputs": [
    {
     "data": {
      "text/plain": [
       "(<QuerySet [<Choice: Choice(2): 답안2번>, <Choice: Choice(4): 답안1번>, <Choice: Choice(5): 답안2번>, <Choice: Choice(7): 답안1번>, <Choice: Choice(8): 답안2번>, <Choice: Choice(10): 이렇게 넣을 수도 있어요.>]>,\n",
       " 6)"
      ]
     },
     "execution_count": 42,
     "metadata": {},
     "output_type": "execute_result"
    }
   ],
   "source": [
    "q.choice_set.all(), q.choice_set.count()"
   ]
  },
  {
   "cell_type": "code",
   "execution_count": 57,
   "id": "c04bf0a7",
   "metadata": {},
   "outputs": [
    {
     "data": {
      "text/plain": [
       "<Choice: Choice(2): 답안2번>"
      ]
     },
     "execution_count": 57,
     "metadata": {},
     "output_type": "execute_result"
    }
   ],
   "source": [
    "c2 = q.choice_set.get(id=2)\n",
    "c2"
   ]
  },
  {
   "cell_type": "code",
   "execution_count": 66,
   "id": "597f6b1e",
   "metadata": {},
   "outputs": [],
   "source": [
    "c2.choice_text = \"답안을 바꿔버러요\"\n",
    "c2.save()"
   ]
  },
  {
   "cell_type": "code",
   "execution_count": 67,
   "id": "884c22b9",
   "metadata": {},
   "outputs": [
    {
     "data": {
      "text/plain": [
       "<QuerySet [<Choice: Choice(2): 답안을 바꿔버러요>, <Choice: Choice(4): 답안1번>, <Choice: Choice(5): 답안2번>, <Choice: Choice(7): 답안1번>, <Choice: Choice(8): 답안2번>, <Choice: Choice(10): 이렇게 넣을 수도 있어요.>]>"
      ]
     },
     "execution_count": 67,
     "metadata": {},
     "output_type": "execute_result"
    }
   ],
   "source": [
    "q.choice_set.all()"
   ]
  },
  {
   "cell_type": "code",
   "execution_count": 75,
   "id": "65f35028",
   "metadata": {},
   "outputs": [
    {
     "data": {
      "text/plain": [
       "<QuerySet [<Question: Question(9): 마지막 질문이 뭔가요?>, <Question: Question(8): django 재밌어요?>, <Question: Question(7): 뭐가 바뀌었니?>]>"
      ]
     },
     "execution_count": 75,
     "metadata": {},
     "output_type": "execute_result"
    }
   ],
   "source": []
  },
  {
   "cell_type": "code",
   "execution_count": null,
   "id": "acb5b2e8",
   "metadata": {},
   "outputs": [],
   "source": []
  },
  {
   "cell_type": "code",
   "execution_count": 25,
   "id": "145a4e09",
   "metadata": {},
   "outputs": [],
   "source": [
    "# db 확인하자"
   ]
  },
  {
   "cell_type": "code",
   "execution_count": 27,
   "id": "4136290b",
   "metadata": {},
   "outputs": [
    {
     "data": {
      "text/plain": [
       "'1193 초 전'"
      ]
     },
     "execution_count": 27,
     "metadata": {},
     "output_type": "execute_result"
    }
   ],
   "source": [
    "q.published_seconds()"
   ]
  },
  {
   "cell_type": "code",
   "execution_count": null,
   "id": "b4622dcc",
   "metadata": {},
   "outputs": [],
   "source": []
  }
 ],
 "metadata": {
  "kernelspec": {
   "display_name": "Python 3 (ipykernel)",
   "language": "python",
   "name": "python3"
  },
  "language_info": {
   "codemirror_mode": {
    "name": "ipython",
    "version": 3
   },
   "file_extension": ".py",
   "mimetype": "text/x-python",
   "name": "python",
   "nbconvert_exporter": "python",
   "pygments_lexer": "ipython3",
   "version": "3.10.8"
  }
 },
 "nbformat": 4,
 "nbformat_minor": 5
}
