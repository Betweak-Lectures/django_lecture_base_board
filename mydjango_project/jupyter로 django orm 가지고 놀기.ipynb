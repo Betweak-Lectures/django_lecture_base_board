{
 "cells": [
  {
   "cell_type": "markdown",
   "id": "aa2aab50",
   "metadata": {},
   "source": [
    "# django 불러오기"
   ]
  },
  {
   "cell_type": "code",
   "execution_count": 3,
   "id": "159125a1",
   "metadata": {},
   "outputs": [],
   "source": [
    "import os, sys\n",
    "PWD = os.getenv('PWD')\n",
    "\n",
    "PROJ_MISSING_MSG = \"\"\"Set an enviroment variable:\\n\n",
    "`DJANGO_PROJECT=your_project_name`\\n\n",
    "or call:\\n\n",
    "`init_django(your_project_name)`\n",
    "\"\"\"\n",
    "\n",
    "def init_django(project_name=None):\n",
    "    os.chdir(PWD)\n",
    "    project_name = project_name or os.environ.get('DJANGO_PROJECT') or None\n",
    "    if project_name == None:\n",
    "        raise Exception(PROJ_MISSING_MSG)\n",
    "    sys.path.insert(0, os.getenv('PWD'))\n",
    "    os.environ.setdefault('DJANGO_SETTINGS_MODULE', f'{project_name}.settings')\n",
    "    os.environ[\"DJANGO_ALLOW_ASYNC_UNSAFE\"] = \"true\"\n",
    "    import django\n",
    "    django.setup()"
   ]
  },
  {
   "cell_type": "code",
   "execution_count": 4,
   "id": "c3667237",
   "metadata": {
    "pycharm": {
     "name": ""
    }
   },
   "outputs": [],
   "source": [
    "init_django('mydjango_project')"
   ]
  },
  {
   "cell_type": "markdown",
   "id": "62da1dd1",
   "metadata": {},
   "source": [
    "# model import"
   ]
  },
  {
   "cell_type": "code",
   "execution_count": 5,
   "id": "6d50fb38",
   "metadata": {},
   "outputs": [],
   "source": [
    "from board.models import Board, Comment"
   ]
  },
  {
   "cell_type": "markdown",
   "id": "80c69122",
   "metadata": {},
   "source": [
    "# Insert or Update"
   ]
  },
  {
   "cell_type": "code",
   "execution_count": 6,
   "id": "4052e394",
   "metadata": {},
   "outputs": [],
   "source": [
    "board = Board(\n",
    "    title=\"제목\",\n",
    "    content=\"내용\",\n",
    ")"
   ]
  },
  {
   "cell_type": "code",
   "execution_count": 7,
   "id": "3a6703c6",
   "metadata": {},
   "outputs": [
    {
     "ename": "OperationalError",
     "evalue": "no such table: board_board",
     "output_type": "error",
     "traceback": [
      "\u001b[0;31m---------------------------------------------------------------------------\u001b[0m",
      "\u001b[0;31mOperationalError\u001b[0m                          Traceback (most recent call last)",
      "File \u001b[0;32m~/betweak/lectures/lecture_pratice/django_practice_list/django_lecture_base_board/.venv/lib/python3.11/site-packages/django/db/backends/utils.py:89\u001b[0m, in \u001b[0;36mCursorWrapper._execute\u001b[0;34m(self, sql, params, *ignored_wrapper_args)\u001b[0m\n\u001b[1;32m     88\u001b[0m \u001b[38;5;28;01melse\u001b[39;00m:\n\u001b[0;32m---> 89\u001b[0m     \u001b[38;5;28;01mreturn\u001b[39;00m \u001b[38;5;28;43mself\u001b[39;49m\u001b[38;5;241;43m.\u001b[39;49m\u001b[43mcursor\u001b[49m\u001b[38;5;241;43m.\u001b[39;49m\u001b[43mexecute\u001b[49m\u001b[43m(\u001b[49m\u001b[43msql\u001b[49m\u001b[43m,\u001b[49m\u001b[43m \u001b[49m\u001b[43mparams\u001b[49m\u001b[43m)\u001b[49m\n",
      "File \u001b[0;32m~/betweak/lectures/lecture_pratice/django_practice_list/django_lecture_base_board/.venv/lib/python3.11/site-packages/django/db/backends/sqlite3/base.py:357\u001b[0m, in \u001b[0;36mSQLiteCursorWrapper.execute\u001b[0;34m(self, query, params)\u001b[0m\n\u001b[1;32m    356\u001b[0m query \u001b[38;5;241m=\u001b[39m \u001b[38;5;28mself\u001b[39m\u001b[38;5;241m.\u001b[39mconvert_query(query)\n\u001b[0;32m--> 357\u001b[0m \u001b[38;5;28;01mreturn\u001b[39;00m \u001b[43mDatabase\u001b[49m\u001b[38;5;241;43m.\u001b[39;49m\u001b[43mCursor\u001b[49m\u001b[38;5;241;43m.\u001b[39;49m\u001b[43mexecute\u001b[49m\u001b[43m(\u001b[49m\u001b[38;5;28;43mself\u001b[39;49m\u001b[43m,\u001b[49m\u001b[43m \u001b[49m\u001b[43mquery\u001b[49m\u001b[43m,\u001b[49m\u001b[43m \u001b[49m\u001b[43mparams\u001b[49m\u001b[43m)\u001b[49m\n",
      "\u001b[0;31mOperationalError\u001b[0m: no such table: board_board",
      "\nThe above exception was the direct cause of the following exception:\n",
      "\u001b[0;31mOperationalError\u001b[0m                          Traceback (most recent call last)",
      "Cell \u001b[0;32mIn[7], line 1\u001b[0m\n\u001b[0;32m----> 1\u001b[0m \u001b[43mboard\u001b[49m\u001b[38;5;241;43m.\u001b[39;49m\u001b[43msave\u001b[49m\u001b[43m(\u001b[49m\u001b[43m)\u001b[49m\n",
      "File \u001b[0;32m~/betweak/lectures/lecture_pratice/django_practice_list/django_lecture_base_board/.venv/lib/python3.11/site-packages/django/db/models/base.py:812\u001b[0m, in \u001b[0;36mModel.save\u001b[0;34m(self, force_insert, force_update, using, update_fields)\u001b[0m\n\u001b[1;32m    809\u001b[0m     \u001b[38;5;28;01mif\u001b[39;00m loaded_fields:\n\u001b[1;32m    810\u001b[0m         update_fields \u001b[38;5;241m=\u001b[39m \u001b[38;5;28mfrozenset\u001b[39m(loaded_fields)\n\u001b[0;32m--> 812\u001b[0m \u001b[38;5;28;43mself\u001b[39;49m\u001b[38;5;241;43m.\u001b[39;49m\u001b[43msave_base\u001b[49m\u001b[43m(\u001b[49m\n\u001b[1;32m    813\u001b[0m \u001b[43m    \u001b[49m\u001b[43musing\u001b[49m\u001b[38;5;241;43m=\u001b[39;49m\u001b[43musing\u001b[49m\u001b[43m,\u001b[49m\n\u001b[1;32m    814\u001b[0m \u001b[43m    \u001b[49m\u001b[43mforce_insert\u001b[49m\u001b[38;5;241;43m=\u001b[39;49m\u001b[43mforce_insert\u001b[49m\u001b[43m,\u001b[49m\n\u001b[1;32m    815\u001b[0m \u001b[43m    \u001b[49m\u001b[43mforce_update\u001b[49m\u001b[38;5;241;43m=\u001b[39;49m\u001b[43mforce_update\u001b[49m\u001b[43m,\u001b[49m\n\u001b[1;32m    816\u001b[0m \u001b[43m    \u001b[49m\u001b[43mupdate_fields\u001b[49m\u001b[38;5;241;43m=\u001b[39;49m\u001b[43mupdate_fields\u001b[49m\u001b[43m,\u001b[49m\n\u001b[1;32m    817\u001b[0m \u001b[43m\u001b[49m\u001b[43m)\u001b[49m\n",
      "File \u001b[0;32m~/betweak/lectures/lecture_pratice/django_practice_list/django_lecture_base_board/.venv/lib/python3.11/site-packages/django/db/models/base.py:863\u001b[0m, in \u001b[0;36mModel.save_base\u001b[0;34m(self, raw, force_insert, force_update, using, update_fields)\u001b[0m\n\u001b[1;32m    861\u001b[0m     \u001b[38;5;28;01mif\u001b[39;00m \u001b[38;5;129;01mnot\u001b[39;00m raw:\n\u001b[1;32m    862\u001b[0m         parent_inserted \u001b[38;5;241m=\u001b[39m \u001b[38;5;28mself\u001b[39m\u001b[38;5;241m.\u001b[39m_save_parents(\u001b[38;5;28mcls\u001b[39m, using, update_fields)\n\u001b[0;32m--> 863\u001b[0m     updated \u001b[38;5;241m=\u001b[39m \u001b[38;5;28;43mself\u001b[39;49m\u001b[38;5;241;43m.\u001b[39;49m\u001b[43m_save_table\u001b[49m\u001b[43m(\u001b[49m\n\u001b[1;32m    864\u001b[0m \u001b[43m        \u001b[49m\u001b[43mraw\u001b[49m\u001b[43m,\u001b[49m\n\u001b[1;32m    865\u001b[0m \u001b[43m        \u001b[49m\u001b[38;5;28;43mcls\u001b[39;49m\u001b[43m,\u001b[49m\n\u001b[1;32m    866\u001b[0m \u001b[43m        \u001b[49m\u001b[43mforce_insert\u001b[49m\u001b[43m \u001b[49m\u001b[38;5;129;43;01mor\u001b[39;49;00m\u001b[43m \u001b[49m\u001b[43mparent_inserted\u001b[49m\u001b[43m,\u001b[49m\n\u001b[1;32m    867\u001b[0m \u001b[43m        \u001b[49m\u001b[43mforce_update\u001b[49m\u001b[43m,\u001b[49m\n\u001b[1;32m    868\u001b[0m \u001b[43m        \u001b[49m\u001b[43musing\u001b[49m\u001b[43m,\u001b[49m\n\u001b[1;32m    869\u001b[0m \u001b[43m        \u001b[49m\u001b[43mupdate_fields\u001b[49m\u001b[43m,\u001b[49m\n\u001b[1;32m    870\u001b[0m \u001b[43m    \u001b[49m\u001b[43m)\u001b[49m\n\u001b[1;32m    871\u001b[0m \u001b[38;5;66;03m# Store the database on which the object was saved\u001b[39;00m\n\u001b[1;32m    872\u001b[0m \u001b[38;5;28mself\u001b[39m\u001b[38;5;241m.\u001b[39m_state\u001b[38;5;241m.\u001b[39mdb \u001b[38;5;241m=\u001b[39m using\n",
      "File \u001b[0;32m~/betweak/lectures/lecture_pratice/django_practice_list/django_lecture_base_board/.venv/lib/python3.11/site-packages/django/db/models/base.py:1006\u001b[0m, in \u001b[0;36mModel._save_table\u001b[0;34m(self, raw, cls, force_insert, force_update, using, update_fields)\u001b[0m\n\u001b[1;32m   1003\u001b[0m     fields \u001b[38;5;241m=\u001b[39m [f \u001b[38;5;28;01mfor\u001b[39;00m f \u001b[38;5;129;01min\u001b[39;00m fields \u001b[38;5;28;01mif\u001b[39;00m f \u001b[38;5;129;01mis\u001b[39;00m \u001b[38;5;129;01mnot\u001b[39;00m meta\u001b[38;5;241m.\u001b[39mauto_field]\n\u001b[1;32m   1005\u001b[0m returning_fields \u001b[38;5;241m=\u001b[39m meta\u001b[38;5;241m.\u001b[39mdb_returning_fields\n\u001b[0;32m-> 1006\u001b[0m results \u001b[38;5;241m=\u001b[39m \u001b[38;5;28;43mself\u001b[39;49m\u001b[38;5;241;43m.\u001b[39;49m\u001b[43m_do_insert\u001b[49m\u001b[43m(\u001b[49m\n\u001b[1;32m   1007\u001b[0m \u001b[43m    \u001b[49m\u001b[38;5;28;43mcls\u001b[39;49m\u001b[38;5;241;43m.\u001b[39;49m\u001b[43m_base_manager\u001b[49m\u001b[43m,\u001b[49m\u001b[43m \u001b[49m\u001b[43musing\u001b[49m\u001b[43m,\u001b[49m\u001b[43m \u001b[49m\u001b[43mfields\u001b[49m\u001b[43m,\u001b[49m\u001b[43m \u001b[49m\u001b[43mreturning_fields\u001b[49m\u001b[43m,\u001b[49m\u001b[43m \u001b[49m\u001b[43mraw\u001b[49m\n\u001b[1;32m   1008\u001b[0m \u001b[43m\u001b[49m\u001b[43m)\u001b[49m\n\u001b[1;32m   1009\u001b[0m \u001b[38;5;28;01mif\u001b[39;00m results:\n\u001b[1;32m   1010\u001b[0m     \u001b[38;5;28;01mfor\u001b[39;00m value, field \u001b[38;5;129;01min\u001b[39;00m \u001b[38;5;28mzip\u001b[39m(results[\u001b[38;5;241m0\u001b[39m], returning_fields):\n",
      "File \u001b[0;32m~/betweak/lectures/lecture_pratice/django_practice_list/django_lecture_base_board/.venv/lib/python3.11/site-packages/django/db/models/base.py:1047\u001b[0m, in \u001b[0;36mModel._do_insert\u001b[0;34m(self, manager, using, fields, returning_fields, raw)\u001b[0m\n\u001b[1;32m   1042\u001b[0m \u001b[38;5;28;01mdef\u001b[39;00m \u001b[38;5;21m_do_insert\u001b[39m(\u001b[38;5;28mself\u001b[39m, manager, using, fields, returning_fields, raw):\n\u001b[1;32m   1043\u001b[0m     \u001b[38;5;124;03m\"\"\"\u001b[39;00m\n\u001b[1;32m   1044\u001b[0m \u001b[38;5;124;03m    Do an INSERT. If returning_fields is defined then this method should\u001b[39;00m\n\u001b[1;32m   1045\u001b[0m \u001b[38;5;124;03m    return the newly created data for the model.\u001b[39;00m\n\u001b[1;32m   1046\u001b[0m \u001b[38;5;124;03m    \"\"\"\u001b[39;00m\n\u001b[0;32m-> 1047\u001b[0m     \u001b[38;5;28;01mreturn\u001b[39;00m \u001b[43mmanager\u001b[49m\u001b[38;5;241;43m.\u001b[39;49m\u001b[43m_insert\u001b[49m\u001b[43m(\u001b[49m\n\u001b[1;32m   1048\u001b[0m \u001b[43m        \u001b[49m\u001b[43m[\u001b[49m\u001b[38;5;28;43mself\u001b[39;49m\u001b[43m]\u001b[49m\u001b[43m,\u001b[49m\n\u001b[1;32m   1049\u001b[0m \u001b[43m        \u001b[49m\u001b[43mfields\u001b[49m\u001b[38;5;241;43m=\u001b[39;49m\u001b[43mfields\u001b[49m\u001b[43m,\u001b[49m\n\u001b[1;32m   1050\u001b[0m \u001b[43m        \u001b[49m\u001b[43mreturning_fields\u001b[49m\u001b[38;5;241;43m=\u001b[39;49m\u001b[43mreturning_fields\u001b[49m\u001b[43m,\u001b[49m\n\u001b[1;32m   1051\u001b[0m \u001b[43m        \u001b[49m\u001b[43musing\u001b[49m\u001b[38;5;241;43m=\u001b[39;49m\u001b[43musing\u001b[49m\u001b[43m,\u001b[49m\n\u001b[1;32m   1052\u001b[0m \u001b[43m        \u001b[49m\u001b[43mraw\u001b[49m\u001b[38;5;241;43m=\u001b[39;49m\u001b[43mraw\u001b[49m\u001b[43m,\u001b[49m\n\u001b[1;32m   1053\u001b[0m \u001b[43m    \u001b[49m\u001b[43m)\u001b[49m\n",
      "File \u001b[0;32m~/betweak/lectures/lecture_pratice/django_practice_list/django_lecture_base_board/.venv/lib/python3.11/site-packages/django/db/models/manager.py:85\u001b[0m, in \u001b[0;36mBaseManager._get_queryset_methods.<locals>.create_method.<locals>.manager_method\u001b[0;34m(self, *args, **kwargs)\u001b[0m\n\u001b[1;32m     84\u001b[0m \u001b[38;5;28;01mdef\u001b[39;00m \u001b[38;5;21mmanager_method\u001b[39m(\u001b[38;5;28mself\u001b[39m, \u001b[38;5;241m*\u001b[39margs, \u001b[38;5;241m*\u001b[39m\u001b[38;5;241m*\u001b[39mkwargs):\n\u001b[0;32m---> 85\u001b[0m     \u001b[38;5;28;01mreturn\u001b[39;00m \u001b[38;5;28;43mgetattr\u001b[39;49m\u001b[43m(\u001b[49m\u001b[38;5;28;43mself\u001b[39;49m\u001b[38;5;241;43m.\u001b[39;49m\u001b[43mget_queryset\u001b[49m\u001b[43m(\u001b[49m\u001b[43m)\u001b[49m\u001b[43m,\u001b[49m\u001b[43m \u001b[49m\u001b[43mname\u001b[49m\u001b[43m)\u001b[49m\u001b[43m(\u001b[49m\u001b[38;5;241;43m*\u001b[39;49m\u001b[43margs\u001b[49m\u001b[43m,\u001b[49m\u001b[43m \u001b[49m\u001b[38;5;241;43m*\u001b[39;49m\u001b[38;5;241;43m*\u001b[39;49m\u001b[43mkwargs\u001b[49m\u001b[43m)\u001b[49m\n",
      "File \u001b[0;32m~/betweak/lectures/lecture_pratice/django_practice_list/django_lecture_base_board/.venv/lib/python3.11/site-packages/django/db/models/query.py:1791\u001b[0m, in \u001b[0;36mQuerySet._insert\u001b[0;34m(self, objs, fields, returning_fields, raw, using, on_conflict, update_fields, unique_fields)\u001b[0m\n\u001b[1;32m   1784\u001b[0m query \u001b[38;5;241m=\u001b[39m sql\u001b[38;5;241m.\u001b[39mInsertQuery(\n\u001b[1;32m   1785\u001b[0m     \u001b[38;5;28mself\u001b[39m\u001b[38;5;241m.\u001b[39mmodel,\n\u001b[1;32m   1786\u001b[0m     on_conflict\u001b[38;5;241m=\u001b[39mon_conflict,\n\u001b[1;32m   1787\u001b[0m     update_fields\u001b[38;5;241m=\u001b[39mupdate_fields,\n\u001b[1;32m   1788\u001b[0m     unique_fields\u001b[38;5;241m=\u001b[39munique_fields,\n\u001b[1;32m   1789\u001b[0m )\n\u001b[1;32m   1790\u001b[0m query\u001b[38;5;241m.\u001b[39minsert_values(fields, objs, raw\u001b[38;5;241m=\u001b[39mraw)\n\u001b[0;32m-> 1791\u001b[0m \u001b[38;5;28;01mreturn\u001b[39;00m \u001b[43mquery\u001b[49m\u001b[38;5;241;43m.\u001b[39;49m\u001b[43mget_compiler\u001b[49m\u001b[43m(\u001b[49m\u001b[43musing\u001b[49m\u001b[38;5;241;43m=\u001b[39;49m\u001b[43musing\u001b[49m\u001b[43m)\u001b[49m\u001b[38;5;241;43m.\u001b[39;49m\u001b[43mexecute_sql\u001b[49m\u001b[43m(\u001b[49m\u001b[43mreturning_fields\u001b[49m\u001b[43m)\u001b[49m\n",
      "File \u001b[0;32m~/betweak/lectures/lecture_pratice/django_practice_list/django_lecture_base_board/.venv/lib/python3.11/site-packages/django/db/models/sql/compiler.py:1660\u001b[0m, in \u001b[0;36mSQLInsertCompiler.execute_sql\u001b[0;34m(self, returning_fields)\u001b[0m\n\u001b[1;32m   1658\u001b[0m \u001b[38;5;28;01mwith\u001b[39;00m \u001b[38;5;28mself\u001b[39m\u001b[38;5;241m.\u001b[39mconnection\u001b[38;5;241m.\u001b[39mcursor() \u001b[38;5;28;01mas\u001b[39;00m cursor:\n\u001b[1;32m   1659\u001b[0m     \u001b[38;5;28;01mfor\u001b[39;00m sql, params \u001b[38;5;129;01min\u001b[39;00m \u001b[38;5;28mself\u001b[39m\u001b[38;5;241m.\u001b[39mas_sql():\n\u001b[0;32m-> 1660\u001b[0m         \u001b[43mcursor\u001b[49m\u001b[38;5;241;43m.\u001b[39;49m\u001b[43mexecute\u001b[49m\u001b[43m(\u001b[49m\u001b[43msql\u001b[49m\u001b[43m,\u001b[49m\u001b[43m \u001b[49m\u001b[43mparams\u001b[49m\u001b[43m)\u001b[49m\n\u001b[1;32m   1661\u001b[0m     \u001b[38;5;28;01mif\u001b[39;00m \u001b[38;5;129;01mnot\u001b[39;00m \u001b[38;5;28mself\u001b[39m\u001b[38;5;241m.\u001b[39mreturning_fields:\n\u001b[1;32m   1662\u001b[0m         \u001b[38;5;28;01mreturn\u001b[39;00m []\n",
      "File \u001b[0;32m~/betweak/lectures/lecture_pratice/django_practice_list/django_lecture_base_board/.venv/lib/python3.11/site-packages/django/db/backends/utils.py:103\u001b[0m, in \u001b[0;36mCursorDebugWrapper.execute\u001b[0;34m(self, sql, params)\u001b[0m\n\u001b[1;32m    101\u001b[0m \u001b[38;5;28;01mdef\u001b[39;00m \u001b[38;5;21mexecute\u001b[39m(\u001b[38;5;28mself\u001b[39m, sql, params\u001b[38;5;241m=\u001b[39m\u001b[38;5;28;01mNone\u001b[39;00m):\n\u001b[1;32m    102\u001b[0m     \u001b[38;5;28;01mwith\u001b[39;00m \u001b[38;5;28mself\u001b[39m\u001b[38;5;241m.\u001b[39mdebug_sql(sql, params, use_last_executed_query\u001b[38;5;241m=\u001b[39m\u001b[38;5;28;01mTrue\u001b[39;00m):\n\u001b[0;32m--> 103\u001b[0m         \u001b[38;5;28;01mreturn\u001b[39;00m \u001b[38;5;28;43msuper\u001b[39;49m\u001b[43m(\u001b[49m\u001b[43m)\u001b[49m\u001b[38;5;241;43m.\u001b[39;49m\u001b[43mexecute\u001b[49m\u001b[43m(\u001b[49m\u001b[43msql\u001b[49m\u001b[43m,\u001b[49m\u001b[43m \u001b[49m\u001b[43mparams\u001b[49m\u001b[43m)\u001b[49m\n",
      "File \u001b[0;32m~/betweak/lectures/lecture_pratice/django_practice_list/django_lecture_base_board/.venv/lib/python3.11/site-packages/django/db/backends/utils.py:67\u001b[0m, in \u001b[0;36mCursorWrapper.execute\u001b[0;34m(self, sql, params)\u001b[0m\n\u001b[1;32m     66\u001b[0m \u001b[38;5;28;01mdef\u001b[39;00m \u001b[38;5;21mexecute\u001b[39m(\u001b[38;5;28mself\u001b[39m, sql, params\u001b[38;5;241m=\u001b[39m\u001b[38;5;28;01mNone\u001b[39;00m):\n\u001b[0;32m---> 67\u001b[0m     \u001b[38;5;28;01mreturn\u001b[39;00m \u001b[38;5;28;43mself\u001b[39;49m\u001b[38;5;241;43m.\u001b[39;49m\u001b[43m_execute_with_wrappers\u001b[49m\u001b[43m(\u001b[49m\n\u001b[1;32m     68\u001b[0m \u001b[43m        \u001b[49m\u001b[43msql\u001b[49m\u001b[43m,\u001b[49m\u001b[43m \u001b[49m\u001b[43mparams\u001b[49m\u001b[43m,\u001b[49m\u001b[43m \u001b[49m\u001b[43mmany\u001b[49m\u001b[38;5;241;43m=\u001b[39;49m\u001b[38;5;28;43;01mFalse\u001b[39;49;00m\u001b[43m,\u001b[49m\u001b[43m \u001b[49m\u001b[43mexecutor\u001b[49m\u001b[38;5;241;43m=\u001b[39;49m\u001b[38;5;28;43mself\u001b[39;49m\u001b[38;5;241;43m.\u001b[39;49m\u001b[43m_execute\u001b[49m\n\u001b[1;32m     69\u001b[0m \u001b[43m    \u001b[49m\u001b[43m)\u001b[49m\n",
      "File \u001b[0;32m~/betweak/lectures/lecture_pratice/django_practice_list/django_lecture_base_board/.venv/lib/python3.11/site-packages/django/db/backends/utils.py:80\u001b[0m, in \u001b[0;36mCursorWrapper._execute_with_wrappers\u001b[0;34m(self, sql, params, many, executor)\u001b[0m\n\u001b[1;32m     78\u001b[0m \u001b[38;5;28;01mfor\u001b[39;00m wrapper \u001b[38;5;129;01min\u001b[39;00m \u001b[38;5;28mreversed\u001b[39m(\u001b[38;5;28mself\u001b[39m\u001b[38;5;241m.\u001b[39mdb\u001b[38;5;241m.\u001b[39mexecute_wrappers):\n\u001b[1;32m     79\u001b[0m     executor \u001b[38;5;241m=\u001b[39m functools\u001b[38;5;241m.\u001b[39mpartial(wrapper, executor)\n\u001b[0;32m---> 80\u001b[0m \u001b[38;5;28;01mreturn\u001b[39;00m \u001b[43mexecutor\u001b[49m\u001b[43m(\u001b[49m\u001b[43msql\u001b[49m\u001b[43m,\u001b[49m\u001b[43m \u001b[49m\u001b[43mparams\u001b[49m\u001b[43m,\u001b[49m\u001b[43m \u001b[49m\u001b[43mmany\u001b[49m\u001b[43m,\u001b[49m\u001b[43m \u001b[49m\u001b[43mcontext\u001b[49m\u001b[43m)\u001b[49m\n",
      "File \u001b[0;32m~/betweak/lectures/lecture_pratice/django_practice_list/django_lecture_base_board/.venv/lib/python3.11/site-packages/django/db/backends/utils.py:84\u001b[0m, in \u001b[0;36mCursorWrapper._execute\u001b[0;34m(self, sql, params, *ignored_wrapper_args)\u001b[0m\n\u001b[1;32m     82\u001b[0m \u001b[38;5;28;01mdef\u001b[39;00m \u001b[38;5;21m_execute\u001b[39m(\u001b[38;5;28mself\u001b[39m, sql, params, \u001b[38;5;241m*\u001b[39mignored_wrapper_args):\n\u001b[1;32m     83\u001b[0m     \u001b[38;5;28mself\u001b[39m\u001b[38;5;241m.\u001b[39mdb\u001b[38;5;241m.\u001b[39mvalidate_no_broken_transaction()\n\u001b[0;32m---> 84\u001b[0m \u001b[43m    \u001b[49m\u001b[38;5;28;43;01mwith\u001b[39;49;00m\u001b[43m \u001b[49m\u001b[38;5;28;43mself\u001b[39;49m\u001b[38;5;241;43m.\u001b[39;49m\u001b[43mdb\u001b[49m\u001b[38;5;241;43m.\u001b[39;49m\u001b[43mwrap_database_errors\u001b[49m\u001b[43m:\u001b[49m\n\u001b[1;32m     85\u001b[0m \u001b[43m        \u001b[49m\u001b[38;5;28;43;01mif\u001b[39;49;00m\u001b[43m \u001b[49m\u001b[43mparams\u001b[49m\u001b[43m \u001b[49m\u001b[38;5;129;43;01mis\u001b[39;49;00m\u001b[43m \u001b[49m\u001b[38;5;28;43;01mNone\u001b[39;49;00m\u001b[43m:\u001b[49m\n\u001b[1;32m     86\u001b[0m \u001b[43m            \u001b[49m\u001b[38;5;66;43;03m# params default might be backend specific.\u001b[39;49;00m\n\u001b[1;32m     87\u001b[0m \u001b[43m            \u001b[49m\u001b[38;5;28;43;01mreturn\u001b[39;49;00m\u001b[43m \u001b[49m\u001b[38;5;28;43mself\u001b[39;49m\u001b[38;5;241;43m.\u001b[39;49m\u001b[43mcursor\u001b[49m\u001b[38;5;241;43m.\u001b[39;49m\u001b[43mexecute\u001b[49m\u001b[43m(\u001b[49m\u001b[43msql\u001b[49m\u001b[43m)\u001b[49m\n",
      "File \u001b[0;32m~/betweak/lectures/lecture_pratice/django_practice_list/django_lecture_base_board/.venv/lib/python3.11/site-packages/django/db/utils.py:91\u001b[0m, in \u001b[0;36mDatabaseErrorWrapper.__exit__\u001b[0;34m(self, exc_type, exc_value, traceback)\u001b[0m\n\u001b[1;32m     89\u001b[0m \u001b[38;5;28;01mif\u001b[39;00m dj_exc_type \u001b[38;5;129;01mnot\u001b[39;00m \u001b[38;5;129;01min\u001b[39;00m (DataError, IntegrityError):\n\u001b[1;32m     90\u001b[0m     \u001b[38;5;28mself\u001b[39m\u001b[38;5;241m.\u001b[39mwrapper\u001b[38;5;241m.\u001b[39merrors_occurred \u001b[38;5;241m=\u001b[39m \u001b[38;5;28;01mTrue\u001b[39;00m\n\u001b[0;32m---> 91\u001b[0m \u001b[38;5;28;01mraise\u001b[39;00m dj_exc_value\u001b[38;5;241m.\u001b[39mwith_traceback(traceback) \u001b[38;5;28;01mfrom\u001b[39;00m \u001b[38;5;21;01mexc_value\u001b[39;00m\n",
      "File \u001b[0;32m~/betweak/lectures/lecture_pratice/django_practice_list/django_lecture_base_board/.venv/lib/python3.11/site-packages/django/db/backends/utils.py:89\u001b[0m, in \u001b[0;36mCursorWrapper._execute\u001b[0;34m(self, sql, params, *ignored_wrapper_args)\u001b[0m\n\u001b[1;32m     87\u001b[0m     \u001b[38;5;28;01mreturn\u001b[39;00m \u001b[38;5;28mself\u001b[39m\u001b[38;5;241m.\u001b[39mcursor\u001b[38;5;241m.\u001b[39mexecute(sql)\n\u001b[1;32m     88\u001b[0m \u001b[38;5;28;01melse\u001b[39;00m:\n\u001b[0;32m---> 89\u001b[0m     \u001b[38;5;28;01mreturn\u001b[39;00m \u001b[38;5;28;43mself\u001b[39;49m\u001b[38;5;241;43m.\u001b[39;49m\u001b[43mcursor\u001b[49m\u001b[38;5;241;43m.\u001b[39;49m\u001b[43mexecute\u001b[49m\u001b[43m(\u001b[49m\u001b[43msql\u001b[49m\u001b[43m,\u001b[49m\u001b[43m \u001b[49m\u001b[43mparams\u001b[49m\u001b[43m)\u001b[49m\n",
      "File \u001b[0;32m~/betweak/lectures/lecture_pratice/django_practice_list/django_lecture_base_board/.venv/lib/python3.11/site-packages/django/db/backends/sqlite3/base.py:357\u001b[0m, in \u001b[0;36mSQLiteCursorWrapper.execute\u001b[0;34m(self, query, params)\u001b[0m\n\u001b[1;32m    355\u001b[0m     \u001b[38;5;28;01mreturn\u001b[39;00m Database\u001b[38;5;241m.\u001b[39mCursor\u001b[38;5;241m.\u001b[39mexecute(\u001b[38;5;28mself\u001b[39m, query)\n\u001b[1;32m    356\u001b[0m query \u001b[38;5;241m=\u001b[39m \u001b[38;5;28mself\u001b[39m\u001b[38;5;241m.\u001b[39mconvert_query(query)\n\u001b[0;32m--> 357\u001b[0m \u001b[38;5;28;01mreturn\u001b[39;00m \u001b[43mDatabase\u001b[49m\u001b[38;5;241;43m.\u001b[39;49m\u001b[43mCursor\u001b[49m\u001b[38;5;241;43m.\u001b[39;49m\u001b[43mexecute\u001b[49m\u001b[43m(\u001b[49m\u001b[38;5;28;43mself\u001b[39;49m\u001b[43m,\u001b[49m\u001b[43m \u001b[49m\u001b[43mquery\u001b[49m\u001b[43m,\u001b[49m\u001b[43m \u001b[49m\u001b[43mparams\u001b[49m\u001b[43m)\u001b[49m\n",
      "\u001b[0;31mOperationalError\u001b[0m: no such table: board_board"
     ]
    }
   ],
   "source": [
    "board.save()"
   ]
  },
  {
   "cell_type": "markdown",
   "id": "19207d0a",
   "metadata": {},
   "source": [
    "# 조회하기"
   ]
  },
  {
   "cell_type": "code",
   "execution_count": 110,
   "id": "86e77f0d",
   "metadata": {
    "scrolled": true
   },
   "outputs": [
    {
     "data": {
      "text/plain": [
       "<QuerySet [<Question: Question(1): 뭐가 바뀌었니?>, <Question: Question(2): django 재밌어요?>, <Question: Question(3): 마지막 질문이 뭔가요?>, <Question: Question(4): 뭐가 바뀌었니?>, <Question: Question(5): django 재밌어요?>, <Question: Question(6): 마지막 질문이 뭔가요?>, <Question: Question(7): 뭐가 바뀌었니?>, <Question: Question(8): django 재밌어요?>, <Question: Question(9): 마지막 질문이 뭔가요?>]>"
      ]
     },
     "execution_count": 110,
     "metadata": {},
     "output_type": "execute_result"
    }
   ],
   "source": [
    "Question.objects.all()"
   ]
  },
  {
   "cell_type": "code",
   "execution_count": 111,
   "id": "f0b2b669",
   "metadata": {},
   "outputs": [],
   "source": [
    "from django.utils import timezone"
   ]
  },
  {
   "cell_type": "markdown",
   "id": "4a4a28fe",
   "metadata": {},
   "source": [
    "# 추가하기"
   ]
  },
  {
   "cell_type": "code",
   "execution_count": 112,
   "id": "11a66e9d",
   "metadata": {},
   "outputs": [
    {
     "data": {
      "text/plain": [
       "<Question: Question(None): 뭐가 바뀌었니?>"
      ]
     },
     "execution_count": 112,
     "metadata": {},
     "output_type": "execute_result"
    }
   ],
   "source": [
    "q = Question(question_text=\"뭐가 바뀌었니?\", pub_date=timezone.now())\n",
    "q"
   ]
  },
  {
   "cell_type": "code",
   "execution_count": 113,
   "id": "a79cf5be",
   "metadata": {},
   "outputs": [],
   "source": [
    "q.save()"
   ]
  },
  {
   "cell_type": "code",
   "execution_count": 114,
   "id": "0c10570e",
   "metadata": {},
   "outputs": [
    {
     "data": {
      "text/plain": [
       "10"
      ]
     },
     "execution_count": 114,
     "metadata": {},
     "output_type": "execute_result"
    }
   ],
   "source": [
    "q.id"
   ]
  },
  {
   "cell_type": "code",
   "execution_count": 115,
   "id": "2a2a38ef",
   "metadata": {},
   "outputs": [
    {
     "data": {
      "text/plain": [
       "<QuerySet [<Question: Question(1): 뭐가 바뀌었니?>, <Question: Question(2): django 재밌어요?>, <Question: Question(3): 마지막 질문이 뭔가요?>, <Question: Question(4): 뭐가 바뀌었니?>, <Question: Question(5): django 재밌어요?>, <Question: Question(6): 마지막 질문이 뭔가요?>, <Question: Question(7): 뭐가 바뀌었니?>, <Question: Question(8): django 재밌어요?>, <Question: Question(9): 마지막 질문이 뭔가요?>, <Question: Question(10): 뭐가 바뀌었니?>]>"
      ]
     },
     "execution_count": 115,
     "metadata": {},
     "output_type": "execute_result"
    }
   ],
   "source": [
    "Question.objects.all()"
   ]
  },
  {
   "cell_type": "code",
   "execution_count": 116,
   "id": "85607a10",
   "metadata": {},
   "outputs": [
    {
     "data": {
      "text/plain": [
       "<Question: Question(11): django 재밌어요?>"
      ]
     },
     "execution_count": 116,
     "metadata": {},
     "output_type": "execute_result"
    }
   ],
   "source": [
    "q = Question(question_text=\"django 재밌어요?\", pub_date=timezone.now())\n",
    "q.save()\n",
    "q"
   ]
  },
  {
   "cell_type": "code",
   "execution_count": 117,
   "id": "c01a06f3",
   "metadata": {},
   "outputs": [],
   "source": [
    "q = Question(question_text=\"마지막 질문이 뭔가요?\", pub_date=timezone.now())\n",
    "q.save()"
   ]
  },
  {
   "cell_type": "code",
   "execution_count": 118,
   "id": "eb9594ac",
   "metadata": {},
   "outputs": [
    {
     "data": {
      "text/plain": [
       "<QuerySet [<Question: Question(1): 뭐가 바뀌었니?>, <Question: Question(2): django 재밌어요?>, <Question: Question(3): 마지막 질문이 뭔가요?>, <Question: Question(4): 뭐가 바뀌었니?>, <Question: Question(5): django 재밌어요?>, <Question: Question(6): 마지막 질문이 뭔가요?>, <Question: Question(7): 뭐가 바뀌었니?>, <Question: Question(8): django 재밌어요?>, <Question: Question(9): 마지막 질문이 뭔가요?>, <Question: Question(10): 뭐가 바뀌었니?>, <Question: Question(11): django 재밌어요?>, <Question: Question(12): 마지막 질문이 뭔가요?>]>"
      ]
     },
     "execution_count": 118,
     "metadata": {},
     "output_type": "execute_result"
    }
   ],
   "source": [
    "Question.objects.all()"
   ]
  },
  {
   "cell_type": "code",
   "execution_count": 119,
   "id": "7d867a24",
   "metadata": {},
   "outputs": [
    {
     "data": {
      "text/plain": [
       "<QuerySet [<Question: Question(12): 마지막 질문이 뭔가요?>, <Question: Question(11): django 재밌어요?>, <Question: Question(10): 뭐가 바뀌었니?>]>"
      ]
     },
     "execution_count": 119,
     "metadata": {},
     "output_type": "execute_result"
    }
   ],
   "source": [
    "Question.objects.all().order_by('-id')[:3]"
   ]
  },
  {
   "cell_type": "code",
   "execution_count": 120,
   "id": "6ff6499f",
   "metadata": {},
   "outputs": [
    {
     "data": {
      "text/plain": [
       "[<Question: Question(1): 뭐가 바뀌었니?>, <Question: Question(2): django 재밌어요?>]"
      ]
     },
     "execution_count": 120,
     "metadata": {},
     "output_type": "execute_result"
    }
   ],
   "source": [
    "result = Question.objects.raw('SELECT * FROM polls_question')\n",
    "result[:2]"
   ]
  },
  {
   "cell_type": "code",
   "execution_count": 121,
   "id": "f0fad7ba",
   "metadata": {},
   "outputs": [
    {
     "data": {
      "text/plain": [
       "<QuerySet [<Question: Question(1): 뭐가 바뀌었니?>, <Question: Question(2): django 재밌어요?>, <Question: Question(3): 마지막 질문이 뭔가요?>, <Question: Question(4): 뭐가 바뀌었니?>, <Question: Question(5): django 재밌어요?>, <Question: Question(6): 마지막 질문이 뭔가요?>, <Question: Question(7): 뭐가 바뀌었니?>, <Question: Question(8): django 재밌어요?>, <Question: Question(9): 마지막 질문이 뭔가요?>, <Question: Question(10): 뭐가 바뀌었니?>, <Question: Question(11): django 재밌어요?>, <Question: Question(12): 마지막 질문이 뭔가요?>]>"
      ]
     },
     "execution_count": 121,
     "metadata": {},
     "output_type": "execute_result"
    }
   ],
   "source": [
    "from django.db.models import Count, Sum\n",
    "from django.db.models import Q, F\n",
    "\n",
    "q = Question.objects.annotate(\n",
    "    max_count=Count('question_text'), changed_name=F('question_text'), sum_id=Sum('id')\n",
    ").all()\n",
    "q"
   ]
  },
  {
   "cell_type": "code",
   "execution_count": 122,
   "id": "c5d3157d",
   "metadata": {},
   "outputs": [
    {
     "data": {
      "text/plain": [
       "<QuerySet [{'question_text': '뭐가 바뀌었니?', 'max_count': 1, 'changed_name': '뭐가 바뀌었니?', 'sum_id': Decimal('1')}, {'question_text': 'django 재밌어요?', 'max_count': 1, 'changed_name': 'django 재밌어요?', 'sum_id': Decimal('2')}, {'question_text': '마지막 질문이 뭔가요?', 'max_count': 1, 'changed_name': '마지막 질문이 뭔가요?', 'sum_id': Decimal('3')}, {'question_text': '뭐가 바뀌었니?', 'max_count': 1, 'changed_name': '뭐가 바뀌었니?', 'sum_id': Decimal('4')}, {'question_text': 'django 재밌어요?', 'max_count': 1, 'changed_name': 'django 재밌어요?', 'sum_id': Decimal('5')}, {'question_text': '마지막 질문이 뭔가요?', 'max_count': 1, 'changed_name': '마지막 질문이 뭔가요?', 'sum_id': Decimal('6')}, {'question_text': '뭐가 바뀌었니?', 'max_count': 1, 'changed_name': '뭐가 바뀌었니?', 'sum_id': Decimal('7')}, {'question_text': 'django 재밌어요?', 'max_count': 1, 'changed_name': 'django 재밌어요?', 'sum_id': Decimal('8')}, {'question_text': '마지막 질문이 뭔가요?', 'max_count': 1, 'changed_name': '마지막 질문이 뭔가요?', 'sum_id': Decimal('9')}, {'question_text': '뭐가 바뀌었니?', 'max_count': 1, 'changed_name': '뭐가 바뀌었니?', 'sum_id': Decimal('10')}, {'question_text': 'django 재밌어요?', 'max_count': 1, 'changed_name': 'django 재밌어요?', 'sum_id': Decimal('11')}, {'question_text': '마지막 질문이 뭔가요?', 'max_count': 1, 'changed_name': '마지막 질문이 뭔가요?', 'sum_id': Decimal('12')}]>"
      ]
     },
     "execution_count": 122,
     "metadata": {},
     "output_type": "execute_result"
    }
   ],
   "source": [
    "q.values('changed_name', 'question_text', 'max_count', 'sum_id')"
   ]
  },
  {
   "cell_type": "markdown",
   "id": "2289bb32",
   "metadata": {},
   "source": [
    "# 조회하기 고급"
   ]
  },
  {
   "cell_type": "code",
   "execution_count": 123,
   "id": "ac4d8b2f",
   "metadata": {},
   "outputs": [
    {
     "data": {
      "text/plain": [
       "<Question: Question(3): 마지막 질문이 뭔가요?>"
      ]
     },
     "execution_count": 123,
     "metadata": {},
     "output_type": "execute_result"
    }
   ],
   "source": [
    "q_1 = Question.objects.get(id=3)\n",
    "q_1"
   ]
  },
  {
   "cell_type": "code",
   "execution_count": 124,
   "id": "fed3aa1e",
   "metadata": {},
   "outputs": [
    {
     "data": {
      "text/plain": [
       "<QuerySet [<Question: Question(1): 뭐가 바뀌었니?>]>"
      ]
     },
     "execution_count": 124,
     "metadata": {},
     "output_type": "execute_result"
    }
   ],
   "source": [
    "q_2 = Question.objects.filter(id=1).all()\n",
    "q_2"
   ]
  },
  {
   "cell_type": "markdown",
   "id": "03fb1f2b",
   "metadata": {},
   "source": [
    "## not표시"
   ]
  },
  {
   "cell_type": "code",
   "execution_count": 125,
   "id": "3bb45da4",
   "metadata": {},
   "outputs": [
    {
     "data": {
      "text/plain": [
       "<QuerySet [<Question: Question(2): django 재밌어요?>, <Question: Question(3): 마지막 질문이 뭔가요?>, <Question: Question(4): 뭐가 바뀌었니?>, <Question: Question(5): django 재밌어요?>, <Question: Question(6): 마지막 질문이 뭔가요?>, <Question: Question(7): 뭐가 바뀌었니?>, <Question: Question(8): django 재밌어요?>, <Question: Question(9): 마지막 질문이 뭔가요?>, <Question: Question(10): 뭐가 바뀌었니?>, <Question: Question(11): django 재밌어요?>, <Question: Question(12): 마지막 질문이 뭔가요?>]>"
      ]
     },
     "execution_count": 125,
     "metadata": {},
     "output_type": "execute_result"
    }
   ],
   "source": [
    "q_3 = Question.objects.exclude(id=1).all()\n",
    "q_3"
   ]
  },
  {
   "cell_type": "code",
   "execution_count": 126,
   "id": "521b25ba",
   "metadata": {},
   "outputs": [
    {
     "data": {
      "text/plain": [
       "<QuerySet [<Question: Question(1): 뭐가 바뀌었니?>, <Question: Question(3): 마지막 질문이 뭔가요?>, <Question: Question(4): 뭐가 바뀌었니?>, <Question: Question(6): 마지막 질문이 뭔가요?>, <Question: Question(7): 뭐가 바뀌었니?>, <Question: Question(9): 마지막 질문이 뭔가요?>, <Question: Question(10): 뭐가 바뀌었니?>, <Question: Question(12): 마지막 질문이 뭔가요?>]>"
      ]
     },
     "execution_count": 126,
     "metadata": {},
     "output_type": "execute_result"
    }
   ],
   "source": [
    "\n",
    "\n",
    "q_4 = Question.objects.filter(~Q(question_text__startswith='django')).all()\n",
    "q_4"
   ]
  },
  {
   "cell_type": "markdown",
   "id": "fbdbbbf9",
   "metadata": {},
   "source": [
    "# 관계 맺기"
   ]
  },
  {
   "cell_type": "code",
   "execution_count": 127,
   "id": "e3e01bfc",
   "metadata": {},
   "outputs": [
    {
     "data": {
      "text/plain": [
       "<Question: Question(1): 뭐가 바뀌었니?>"
      ]
     },
     "execution_count": 127,
     "metadata": {},
     "output_type": "execute_result"
    }
   ],
   "source": [
    "q = Question.objects.get(id=1)\n",
    "q"
   ]
  },
  {
   "cell_type": "code",
   "execution_count": 128,
   "id": "2ce87892",
   "metadata": {},
   "outputs": [],
   "source": [
    "c = Choice(\n",
    "    question=q,\n",
    "    choice_text=\"답안1번\"\n",
    ")\n",
    "c.save()"
   ]
  },
  {
   "cell_type": "code",
   "execution_count": 129,
   "id": "36c3c342",
   "metadata": {},
   "outputs": [],
   "source": [
    "c = Choice(\n",
    "    question=q,\n",
    "    choice_text=\"답안2번\"\n",
    ")\n",
    "c.save()"
   ]
  },
  {
   "cell_type": "code",
   "execution_count": 130,
   "id": "03c2d4c0",
   "metadata": {},
   "outputs": [],
   "source": [
    "q2 = Question.objects.get(id=2)\n",
    "\n",
    "c = Choice(\n",
    "    question=q2,\n",
    "    choice_text=\"답안2-1번\"\n",
    ")\n",
    "c.save()"
   ]
  },
  {
   "cell_type": "code",
   "execution_count": 131,
   "id": "1cfd3d94",
   "metadata": {},
   "outputs": [
    {
     "data": {
      "text/plain": [
       "<QuerySet [<Choice: Choice(2): 답안을 바꿔버러요>, <Choice: Choice(3): 답안2-1번>, <Choice: Choice(4): 답안1번>, <Choice: Choice(5): 답안2번>, <Choice: Choice(6): 답안2-1번>, <Choice: Choice(7): 답안1번>, <Choice: Choice(8): 답안2번>, <Choice: Choice(9): 답안2-1번>, <Choice: Choice(10): 이렇게 넣을 수도 있어요.dddsss>, <Choice: Choice(11): 답안1번>, <Choice: Choice(12): 답안2번>, <Choice: Choice(13): 답안2-1번>]>"
      ]
     },
     "execution_count": 131,
     "metadata": {},
     "output_type": "execute_result"
    }
   ],
   "source": [
    "Choice.objects.all()"
   ]
  },
  {
   "cell_type": "code",
   "execution_count": 132,
   "id": "dadb5e33",
   "metadata": {},
   "outputs": [
    {
     "data": {
      "text/plain": [
       "<QuerySet [<Choice: Choice(2): 답안을 바꿔버러요>, <Choice: Choice(4): 답안1번>, <Choice: Choice(5): 답안2번>, <Choice: Choice(7): 답안1번>, <Choice: Choice(8): 답안2번>, <Choice: Choice(10): 이렇게 넣을 수도 있어요.dddsss>, <Choice: Choice(11): 답안1번>, <Choice: Choice(12): 답안2번>]>"
      ]
     },
     "execution_count": 132,
     "metadata": {},
     "output_type": "execute_result"
    }
   ],
   "source": [
    "Choice.objects.filter(question=q)"
   ]
  },
  {
   "cell_type": "code",
   "execution_count": 133,
   "id": "934f4824",
   "metadata": {},
   "outputs": [
    {
     "data": {
      "text/plain": [
       "<QuerySet [<Choice: Choice(2): 답안을 바꿔버러요>, <Choice: Choice(4): 답안1번>, <Choice: Choice(5): 답안2번>, <Choice: Choice(7): 답안1번>, <Choice: Choice(8): 답안2번>, <Choice: Choice(10): 이렇게 넣을 수도 있어요.dddsss>, <Choice: Choice(11): 답안1번>, <Choice: Choice(12): 답안2번>]>"
      ]
     },
     "execution_count": 133,
     "metadata": {},
     "output_type": "execute_result"
    }
   ],
   "source": [
    "Choice.objects.filter(question_id=q.id)"
   ]
  },
  {
   "cell_type": "code",
   "execution_count": 134,
   "id": "272a03c5",
   "metadata": {},
   "outputs": [
    {
     "data": {
      "text/plain": [
       "<Question: Question(1): 뭐가 바뀌었니?>"
      ]
     },
     "execution_count": 134,
     "metadata": {},
     "output_type": "execute_result"
    }
   ],
   "source": [
    "q = Question.objects.get(id=1)\n",
    "q"
   ]
  },
  {
   "cell_type": "code",
   "execution_count": 135,
   "id": "1fbbec2b",
   "metadata": {},
   "outputs": [
    {
     "data": {
      "text/plain": [
       "<QuerySet [<Choice: Choice(2): 답안을 바꿔버러요>, <Choice: Choice(4): 답안1번>, <Choice: Choice(5): 답안2번>, <Choice: Choice(7): 답안1번>, <Choice: Choice(8): 답안2번>, <Choice: Choice(10): 이렇게 넣을 수도 있어요.dddsss>, <Choice: Choice(11): 답안1번>, <Choice: Choice(12): 답안2번>]>"
      ]
     },
     "execution_count": 135,
     "metadata": {},
     "output_type": "execute_result"
    }
   ],
   "source": [
    "# 연관지어 가져오기\n",
    "q.choice_set.all()"
   ]
  },
  {
   "cell_type": "code",
   "execution_count": 29,
   "id": "06d5491e",
   "metadata": {},
   "outputs": [
    {
     "data": {
      "text/plain": [
       "<Choice: Choice(10): 이렇게 넣을 수도 있어요.>"
      ]
     },
     "execution_count": 29,
     "metadata": {},
     "output_type": "execute_result"
    }
   ],
   "source": [
    "q.choice_set.create(choice_text='이렇게 넣을 수도 있어요.', votes=0)"
   ]
  },
  {
   "cell_type": "code",
   "execution_count": 30,
   "id": "fefda42e",
   "metadata": {},
   "outputs": [
    {
     "data": {
      "text/plain": [
       "<QuerySet [<Choice: Choice(1): 답안1번>, <Choice: Choice(2): 답안2번>, <Choice: Choice(4): 답안1번>, <Choice: Choice(5): 답안2번>, <Choice: Choice(7): 답안1번>, <Choice: Choice(8): 답안2번>, <Choice: Choice(10): 이렇게 넣을 수도 있어요.>]>"
      ]
     },
     "execution_count": 30,
     "metadata": {},
     "output_type": "execute_result"
    }
   ],
   "source": [
    "q.choice_set.all()"
   ]
  },
  {
   "cell_type": "code",
   "execution_count": 31,
   "id": "3f5848f2",
   "metadata": {},
   "outputs": [
    {
     "data": {
      "text/plain": [
       "7"
      ]
     },
     "execution_count": 31,
     "metadata": {},
     "output_type": "execute_result"
    }
   ],
   "source": [
    "q.choice_set.count()"
   ]
  },
  {
   "cell_type": "code",
   "execution_count": 38,
   "id": "60d59c53",
   "metadata": {},
   "outputs": [
    {
     "data": {
      "text/plain": [
       "<QuerySet [<Choice: Choice(1): 답안1번>]>"
      ]
     },
     "execution_count": 38,
     "metadata": {},
     "output_type": "execute_result"
    }
   ],
   "source": [
    "c1 = q.choice_set.filter(id=1)\n",
    "c1"
   ]
  },
  {
   "cell_type": "code",
   "execution_count": 39,
   "id": "4efaee52",
   "metadata": {},
   "outputs": [
    {
     "data": {
      "text/plain": [
       "(1, {'polls.Choice': 1})"
      ]
     },
     "execution_count": 39,
     "metadata": {},
     "output_type": "execute_result"
    }
   ],
   "source": [
    "c1.delete()"
   ]
  },
  {
   "cell_type": "code",
   "execution_count": 42,
   "id": "b3afccac",
   "metadata": {},
   "outputs": [
    {
     "data": {
      "text/plain": [
       "(<QuerySet [<Choice: Choice(2): 답안2번>, <Choice: Choice(4): 답안1번>, <Choice: Choice(5): 답안2번>, <Choice: Choice(7): 답안1번>, <Choice: Choice(8): 답안2번>, <Choice: Choice(10): 이렇게 넣을 수도 있어요.>]>,\n",
       " 6)"
      ]
     },
     "execution_count": 42,
     "metadata": {},
     "output_type": "execute_result"
    }
   ],
   "source": [
    "q.choice_set.all(), q.choice_set.count()"
   ]
  },
  {
   "cell_type": "code",
   "execution_count": 57,
   "id": "c04bf0a7",
   "metadata": {},
   "outputs": [
    {
     "data": {
      "text/plain": [
       "<Choice: Choice(2): 답안2번>"
      ]
     },
     "execution_count": 57,
     "metadata": {},
     "output_type": "execute_result"
    }
   ],
   "source": [
    "c2 = q.choice_set.get(id=2)\n",
    "c2"
   ]
  },
  {
   "cell_type": "code",
   "execution_count": 66,
   "id": "597f6b1e",
   "metadata": {},
   "outputs": [],
   "source": [
    "c2.choice_text = \"답안을 바꿔버러요\"\n",
    "c2.save()"
   ]
  },
  {
   "cell_type": "code",
   "execution_count": 67,
   "id": "884c22b9",
   "metadata": {},
   "outputs": [
    {
     "data": {
      "text/plain": [
       "<QuerySet [<Choice: Choice(2): 답안을 바꿔버러요>, <Choice: Choice(4): 답안1번>, <Choice: Choice(5): 답안2번>, <Choice: Choice(7): 답안1번>, <Choice: Choice(8): 답안2번>, <Choice: Choice(10): 이렇게 넣을 수도 있어요.>]>"
      ]
     },
     "execution_count": 67,
     "metadata": {},
     "output_type": "execute_result"
    }
   ],
   "source": [
    "q.choice_set.all()"
   ]
  },
  {
   "cell_type": "code",
   "execution_count": 75,
   "id": "65f35028",
   "metadata": {},
   "outputs": [
    {
     "data": {
      "text/plain": [
       "<QuerySet [<Question: Question(9): 마지막 질문이 뭔가요?>, <Question: Question(8): django 재밌어요?>, <Question: Question(7): 뭐가 바뀌었니?>]>"
      ]
     },
     "execution_count": 75,
     "metadata": {},
     "output_type": "execute_result"
    }
   ],
   "source": []
  },
  {
   "cell_type": "code",
   "execution_count": null,
   "id": "acb5b2e8",
   "metadata": {},
   "outputs": [],
   "source": []
  },
  {
   "cell_type": "code",
   "execution_count": 25,
   "id": "145a4e09",
   "metadata": {},
   "outputs": [],
   "source": [
    "# db 확인하자"
   ]
  },
  {
   "cell_type": "code",
   "execution_count": 27,
   "id": "4136290b",
   "metadata": {},
   "outputs": [
    {
     "data": {
      "text/plain": [
       "'1193 초 전'"
      ]
     },
     "execution_count": 27,
     "metadata": {},
     "output_type": "execute_result"
    }
   ],
   "source": [
    "q.published_seconds()"
   ]
  },
  {
   "cell_type": "code",
   "execution_count": null,
   "id": "b4622dcc",
   "metadata": {},
   "outputs": [],
   "source": []
  }
 ],
 "metadata": {
  "kernelspec": {
   "display_name": "Python 3 (ipykernel)",
   "language": "python",
   "name": "python3"
  },
  "language_info": {
   "codemirror_mode": {
    "name": "ipython",
    "version": 3
   },
   "file_extension": ".py",
   "mimetype": "text/x-python",
   "name": "python",
   "nbconvert_exporter": "python",
   "pygments_lexer": "ipython3",
   "version": "3.11.1"
  }
 },
 "nbformat": 4,
 "nbformat_minor": 5
}
