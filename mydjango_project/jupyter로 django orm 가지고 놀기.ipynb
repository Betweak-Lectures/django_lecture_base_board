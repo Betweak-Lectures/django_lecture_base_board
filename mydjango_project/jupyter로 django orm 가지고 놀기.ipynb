{
 "cells": [
  {
   "cell_type": "code",
   "execution_count": null,
   "id": "a5df06a0",
   "metadata": {},
   "outputs": [],
   "source": []
  },
  {
   "cell_type": "markdown",
   "id": "59dcf4bc",
   "metadata": {},
   "source": [
    "# django 불러오기"
   ]
  },
  {
   "cell_type": "code",
   "execution_count": null,
   "id": "159125a1",
   "metadata": {},
   "outputs": [],
   "source": [
    "import os, sys\n",
    "PWD = os.getenv('PWD')\n",
    "\n",
    "PROJ_MISSING_MSG = \"\"\"Set an enviroment variable:\\n\n",
    "`DJANGO_PROJECT=your_project_name`\\n\n",
    "or call:\\n\n",
    "`init_django(your_project_name)`\n",
    "\"\"\"\n",
    "\n",
    "def init_django(project_name=None):\n",
    "    os.chdir(PWD)\n",
    "    project_name = project_name or os.environ.get('DJANGO_PROJECT') or None\n",
    "    if project_name == None:\n",
    "        raise Exception(PROJ_MISSING_MSG)\n",
    "    sys.path.insert(0, os.getenv('PWD'))\n",
    "    os.environ.setdefault('DJANGO_SETTINGS_MODULE', f'{project_name}.settings')\n",
    "    os.environ[\"DJANGO_ALLOW_ASYNC_UNSAFE\"] = \"true\"\n",
    "    import django\n",
    "    django.setup()"
   ]
  },
  {
   "cell_type": "code",
   "execution_count": null,
   "id": "c3667237",
   "metadata": {
    "pycharm": {
     "name": ""
    }
   },
   "outputs": [],
   "source": [
    "init_django('mydjango_project')"
   ]
  },
  {
   "cell_type": "markdown",
   "id": "62da1dd1",
   "metadata": {},
   "source": [
    "# model import"
   ]
  },
  {
   "cell_type": "code",
   "execution_count": null,
   "id": "6d50fb38",
   "metadata": {},
   "outputs": [],
   "source": [
    "from board.models import Board, Comment"
   ]
  },
  {
   "cell_type": "markdown",
   "id": "9b7d3b3a",
   "metadata": {},
   "source": [
    "# Insert or Update"
   ]
  },
  {
   "cell_type": "code",
   "execution_count": null,
   "id": "a0e2b88a",
   "metadata": {},
   "outputs": [],
   "source": [
    "board = Board(\n",
    "    title=\"게시글1\",\n",
    "    content=\"내용1\",\n",
    ")"
   ]
  },
  {
   "cell_type": "code",
   "execution_count": null,
   "id": "e9dd984b",
   "metadata": {},
   "outputs": [],
   "source": [
    "board.save()"
   ]
  },
  {
   "cell_type": "code",
   "execution_count": null,
   "id": "7aae374a",
   "metadata": {},
   "outputs": [],
   "source": [
    "board"
   ]
  },
  {
   "cell_type": "markdown",
   "id": "c7fe5e06",
   "metadata": {},
   "source": [
    "-> 내용 확인"
   ]
  },
  {
   "cell_type": "code",
   "execution_count": null,
   "id": "0e206a00",
   "metadata": {},
   "outputs": [],
   "source": [
    "board = Board.objects.create(\n",
    "    title=\"게시글2\",\n",
    "    content=\"내용2\"\n",
    ")"
   ]
  },
  {
   "cell_type": "code",
   "execution_count": null,
   "id": "c9d94e63",
   "metadata": {},
   "outputs": [],
   "source": []
  },
  {
   "cell_type": "code",
   "execution_count": null,
   "id": "65e98f96",
   "metadata": {},
   "outputs": [],
   "source": [
    "board"
   ]
  },
  {
   "cell_type": "code",
   "execution_count": null,
   "id": "5f75b18c",
   "metadata": {},
   "outputs": [],
   "source": [
    "board = Board.objects.create(\n",
    "    title=\"게시글3\",\n",
    "    content=\"내용3\"\n",
    ")"
   ]
  },
  {
   "cell_type": "code",
   "execution_count": null,
   "id": "8a1868e0",
   "metadata": {},
   "outputs": [],
   "source": [
    "board"
   ]
  },
  {
   "cell_type": "markdown",
   "id": "19207d0a",
   "metadata": {},
   "source": [
    "# 조회하기"
   ]
  },
  {
   "cell_type": "markdown",
   "id": "81931ab5",
   "metadata": {},
   "source": [
    "## raw query로 조회하기"
   ]
  },
  {
   "cell_type": "code",
   "execution_count": null,
   "id": "2fb2b57d",
   "metadata": {},
   "outputs": [],
   "source": [
    "result = Board.objects.raw('SELECT * FROM board_board')\n",
    "result"
   ]
  },
  {
   "cell_type": "markdown",
   "id": "5b9f5d4c",
   "metadata": {},
   "source": [
    "## orm으로 조회하기"
   ]
  },
  {
   "cell_type": "markdown",
   "id": "d5916f38",
   "metadata": {},
   "source": [
    "### 전체 조회하기"
   ]
  },
  {
   "cell_type": "code",
   "execution_count": null,
   "id": "86e77f0d",
   "metadata": {
    "scrolled": true
   },
   "outputs": [],
   "source": [
    "board_list = Board.objects.all()\n",
    "board_list"
   ]
  },
  {
   "cell_type": "markdown",
   "id": "9e2ec823",
   "metadata": {},
   "source": [
    "### filter 걸어서 조회하기(where)"
   ]
  },
  {
   "cell_type": "code",
   "execution_count": null,
   "id": "a40498ca",
   "metadata": {},
   "outputs": [],
   "source": [
    "board_list = Board.objects.filter(title=\"게시글\")\n",
    "board_list"
   ]
  },
  {
   "cell_type": "code",
   "execution_count": null,
   "id": "d1da3bb8",
   "metadata": {},
   "outputs": [],
   "source": [
    "board_list = Board.objects.order_by('-created_at') # order by desc\n",
    "board_list"
   ]
  },
  {
   "cell_type": "code",
   "execution_count": null,
   "id": "c8bf9d86",
   "metadata": {},
   "outputs": [],
   "source": [
    "board_list = Board.objects.order_by('-created_at')[2:4] # order by desc limit(2) offset(2)\n",
    "board_list"
   ]
  },
  {
   "cell_type": "markdown",
   "id": "75e8c753",
   "metadata": {},
   "source": [
    "###  filter not 표시"
   ]
  },
  {
   "cell_type": "code",
   "execution_count": null,
   "id": "5cf3de79",
   "metadata": {},
   "outputs": [],
   "source": [
    "board_list = Board.objects.exclude(title=\"게시글\")\n",
    "board_list"
   ]
  },
  {
   "cell_type": "code",
   "execution_count": null,
   "id": "516ff557",
   "metadata": {},
   "outputs": [],
   "source": [
    "from django.db.models import Q"
   ]
  },
  {
   "cell_type": "code",
   "execution_count": null,
   "id": "a788a82d",
   "metadata": {},
   "outputs": [],
   "source": [
    "board_list = Board.objects.filter(~Q(title=\"게시글\"))\n",
    "board_list"
   ]
  },
  {
   "cell_type": "markdown",
   "id": "3e79f2f7",
   "metadata": {},
   "source": [
    "## 조회하기 고급"
   ]
  },
  {
   "cell_type": "markdown",
   "id": "edbaccf9",
   "metadata": {},
   "source": [
    "### 다양한 조건"
   ]
  },
  {
   "cell_type": "markdown",
   "id": "1a289baa",
   "metadata": {},
   "source": [
    "#### or"
   ]
  },
  {
   "cell_type": "code",
   "execution_count": null,
   "id": "c2743381",
   "metadata": {},
   "outputs": [],
   "source": [
    "board_list = Board.objects.filter(Q(title=\"게시글1\") | Q(title=\"게시글2\"))\n",
    "board_list"
   ]
  },
  {
   "cell_type": "markdown",
   "id": "699353ad",
   "metadata": {},
   "source": [
    "##### and 와 연산자"
   ]
  },
  {
   "cell_type": "markdown",
   "id": "168f815f",
   "metadata": {},
   "source": [
    "- gte: greater than equal\n",
    "- lte: less than equal\n",
    "- lt: less than\n",
    "- gt: greater than"
   ]
  },
  {
   "cell_type": "code",
   "execution_count": null,
   "id": "ec4ac1c1",
   "metadata": {},
   "outputs": [],
   "source": [
    "board_list = Board.objects.filter(Q(title__endswith=\"글1\") & Q(id__gte=3))\n",
    "board_list"
   ]
  },
  {
   "cell_type": "code",
   "execution_count": null,
   "id": "fe19c460",
   "metadata": {},
   "outputs": [],
   "source": [
    "board_list = Board.objects.filter(Q(title__startswith=\"게시\") & Q(created_at__year=2022))\n",
    "board_list"
   ]
  },
  {
   "cell_type": "markdown",
   "id": "3d01ef70",
   "metadata": {},
   "source": [
    "# 관계 추가하기"
   ]
  },
  {
   "cell_type": "markdown",
   "id": "32a50036",
   "metadata": {},
   "source": [
    "1번 댓글에 댓글을 3가지 이상 입력하세요"
   ]
  },
  {
   "cell_type": "code",
   "execution_count": null,
   "id": "9c244eb1",
   "metadata": {},
   "outputs": [],
   "source": [
    "comment = Comment(\n",
    "    board_id = 1,\n",
    "    content = \"댓글 내용2\"\n",
    ")\n",
    "comment.save()"
   ]
  },
  {
   "cell_type": "code",
   "execution_count": null,
   "id": "ac22b761",
   "metadata": {},
   "outputs": [],
   "source": [
    "board = Board.objects.get(id=1)\n",
    "comment = Comment.objects.create(\n",
    "    board=board,\n",
    "    content = \"댓글 내용3\"\n",
    ")"
   ]
  },
  {
   "cell_type": "markdown",
   "id": "9d02974f",
   "metadata": {},
   "source": [
    "## 관계 조회하기"
   ]
  },
  {
   "cell_type": "code",
   "execution_count": null,
   "id": "1b326297",
   "metadata": {},
   "outputs": [],
   "source": [
    "Comment.objects.all()"
   ]
  },
  {
   "cell_type": "code",
   "execution_count": null,
   "id": "aea53cd5",
   "metadata": {},
   "outputs": [],
   "source": [
    "board_list = Board.objects.filter(id__lte=5).prefetch_related('comment_set')\n",
    "board_list"
   ]
  },
  {
   "cell_type": "code",
   "execution_count": null,
   "id": "d12838a5",
   "metadata": {},
   "outputs": [],
   "source": [
    "comment_list = board_list[0].comment_set.all()\n",
    "comment_list"
   ]
  },
  {
   "cell_type": "code",
   "execution_count": null,
   "id": "7295ec23",
   "metadata": {},
   "outputs": [],
   "source": [
    "comment = comment_list[0]\n",
    "comment.board"
   ]
  },
  {
   "cell_type": "code",
   "execution_count": null,
   "id": "60b278fe",
   "metadata": {},
   "outputs": [],
   "source": []
  },
  {
   "cell_type": "code",
   "execution_count": null,
   "id": "80545a24",
   "metadata": {},
   "outputs": [],
   "source": []
  },
  {
   "cell_type": "code",
   "execution_count": null,
   "id": "b34156f1",
   "metadata": {},
   "outputs": [],
   "source": []
  },
  {
   "cell_type": "code",
   "execution_count": null,
   "id": "b4622dcc",
   "metadata": {},
   "outputs": [],
   "source": []
  }
 ],
 "metadata": {
  "kernelspec": {
   "display_name": "Python 3 (ipykernel)",
   "language": "python",
   "name": "python3"
  },
  "language_info": {
   "codemirror_mode": {
    "name": "ipython",
    "version": 3
   },
   "file_extension": ".py",
   "mimetype": "text/x-python",
   "name": "python",
   "nbconvert_exporter": "python",
   "pygments_lexer": "ipython3",
   "version": "3.11.1"
  }
 },
 "nbformat": 4,
 "nbformat_minor": 5
}
