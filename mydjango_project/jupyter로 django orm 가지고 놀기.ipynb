{
 "cells": [
  {
   "cell_type": "code",
   "execution_count": null,
   "id": "e4de0df5",
   "metadata": {},
   "outputs": [],
   "source": []
  },
  {
   "cell_type": "markdown",
   "id": "b44d74e5",
   "metadata": {},
   "source": [
    "# django 불러오기"
   ]
  },
  {
   "cell_type": "code",
   "execution_count": 1,
   "id": "159125a1",
   "metadata": {},
   "outputs": [],
   "source": [
    "import os, sys\n",
    "PWD = os.getenv('PWD')\n",
    "\n",
    "PROJ_MISSING_MSG = \"\"\"Set an enviroment variable:\\n\n",
    "`DJANGO_PROJECT=your_project_name`\\n\n",
    "or call:\\n\n",
    "`init_django(your_project_name)`\n",
    "\"\"\"\n",
    "\n",
    "def init_django(project_name=None):\n",
    "    os.chdir(PWD)\n",
    "    project_name = project_name or os.environ.get('DJANGO_PROJECT') or None\n",
    "    if project_name == None:\n",
    "        raise Exception(PROJ_MISSING_MSG)\n",
    "    sys.path.insert(0, os.getenv('PWD'))\n",
    "    os.environ.setdefault('DJANGO_SETTINGS_MODULE', f'{project_name}.settings')\n",
    "    os.environ[\"DJANGO_ALLOW_ASYNC_UNSAFE\"] = \"true\"\n",
    "    import django\n",
    "    django.setup()"
   ]
  },
  {
   "cell_type": "code",
   "execution_count": 2,
   "id": "c3667237",
   "metadata": {
    "pycharm": {
     "name": ""
    }
   },
   "outputs": [],
   "source": [
    "init_django('mydjango_project')"
   ]
  },
  {
   "cell_type": "markdown",
   "id": "62da1dd1",
   "metadata": {},
   "source": [
    "# model import"
   ]
  },
  {
   "cell_type": "code",
   "execution_count": 48,
   "id": "6d50fb38",
   "metadata": {},
   "outputs": [
    {
     "ename": "ImportError",
     "evalue": "cannot import name 'Comment' from 'board.models' (/Users/betweak/betweak/lectures/lecture_pratice/django_practice_list/django_lecture_base_board/mydjango_project/board/models.py)",
     "output_type": "error",
     "traceback": [
      "\u001b[0;31m---------------------------------------------------------------------------\u001b[0m",
      "\u001b[0;31mImportError\u001b[0m                               Traceback (most recent call last)",
      "Cell \u001b[0;32mIn[48], line 1\u001b[0m\n\u001b[0;32m----> 1\u001b[0m \u001b[38;5;28;01mfrom\u001b[39;00m \u001b[38;5;21;01mboard\u001b[39;00m\u001b[38;5;21;01m.\u001b[39;00m\u001b[38;5;21;01mmodels\u001b[39;00m \u001b[38;5;28;01mimport\u001b[39;00m Board, Comment\n",
      "\u001b[0;31mImportError\u001b[0m: cannot import name 'Comment' from 'board.models' (/Users/betweak/betweak/lectures/lecture_pratice/django_practice_list/django_lecture_base_board/mydjango_project/board/models.py)"
     ]
    }
   ],
   "source": [
    "from board.models import Board, Comment"
   ]
  },
  {
   "cell_type": "markdown",
   "id": "15ec18d1",
   "metadata": {},
   "source": [
    "# Insert or Update"
   ]
  },
  {
   "cell_type": "code",
   "execution_count": 24,
   "id": "6b02e8d5",
   "metadata": {},
   "outputs": [],
   "source": [
    "board = Board(\n",
    "    title=\"게시글1\",\n",
    "    content=\"내용1\",\n",
    ")"
   ]
  },
  {
   "cell_type": "code",
   "execution_count": 25,
   "id": "6f05a60e",
   "metadata": {},
   "outputs": [],
   "source": [
    "board.save()"
   ]
  },
  {
   "cell_type": "code",
   "execution_count": 26,
   "id": "238ff0eb",
   "metadata": {},
   "outputs": [
    {
     "data": {
      "text/plain": [
       "<Board: Board object (5)>"
      ]
     },
     "execution_count": 26,
     "metadata": {},
     "output_type": "execute_result"
    }
   ],
   "source": [
    "board"
   ]
  },
  {
   "cell_type": "markdown",
   "id": "6d0fd9e2",
   "metadata": {},
   "source": [
    "-> 내용 확인"
   ]
  },
  {
   "cell_type": "code",
   "execution_count": 27,
   "id": "8c67ca5a",
   "metadata": {},
   "outputs": [],
   "source": [
    "board = Board.objects.create(\n",
    "    title=\"게시글2\",\n",
    "    content=\"내용2\"\n",
    ")"
   ]
  },
  {
   "cell_type": "code",
   "execution_count": null,
   "id": "1918665c",
   "metadata": {},
   "outputs": [],
   "source": []
  },
  {
   "cell_type": "code",
   "execution_count": 29,
   "id": "a4a9bf31",
   "metadata": {},
   "outputs": [
    {
     "data": {
      "text/plain": [
       "<Board: Board object (7)>"
      ]
     },
     "execution_count": 29,
     "metadata": {},
     "output_type": "execute_result"
    }
   ],
   "source": [
    "board"
   ]
  },
  {
   "cell_type": "code",
   "execution_count": 28,
   "id": "b13d2c4a",
   "metadata": {},
   "outputs": [],
   "source": [
    "board = Board.objects.create(\n",
    "    title=\"게시글3\",\n",
    "    content=\"내용3\"\n",
    ")"
   ]
  },
  {
   "cell_type": "code",
   "execution_count": 30,
   "id": "c0639204",
   "metadata": {},
   "outputs": [
    {
     "data": {
      "text/plain": [
       "<Board: Board object (7)>"
      ]
     },
     "execution_count": 30,
     "metadata": {},
     "output_type": "execute_result"
    }
   ],
   "source": [
    "board"
   ]
  },
  {
   "cell_type": "markdown",
   "id": "19207d0a",
   "metadata": {},
   "source": [
    "# 조회하기"
   ]
  },
  {
   "cell_type": "markdown",
   "id": "a611c478",
   "metadata": {},
   "source": [
    "## raw query로 조회하기"
   ]
  },
  {
   "cell_type": "code",
   "execution_count": 32,
   "id": "0e77f31e",
   "metadata": {},
   "outputs": [
    {
     "data": {
      "text/plain": [
       "<RawQuerySet: SELECT * FROM board_board>"
      ]
     },
     "execution_count": 32,
     "metadata": {},
     "output_type": "execute_result"
    }
   ],
   "source": [
    "result = Board.objects.raw('SELECT * FROM board_board')\n",
    "result"
   ]
  },
  {
   "cell_type": "markdown",
   "id": "39c01cc0",
   "metadata": {},
   "source": [
    "## orm으로 조회하기"
   ]
  },
  {
   "cell_type": "markdown",
   "id": "f5ebda45",
   "metadata": {},
   "source": [
    "### 전체 조회하기"
   ]
  },
  {
   "cell_type": "code",
   "execution_count": 12,
   "id": "86e77f0d",
   "metadata": {
    "scrolled": true
   },
   "outputs": [
    {
     "data": {
      "text/plain": [
       "<QuerySet [<Board: Board object (1)>, <Board: Board object (2)>, <Board: Board object (3)>]>"
      ]
     },
     "execution_count": 12,
     "metadata": {},
     "output_type": "execute_result"
    }
   ],
   "source": [
    "board_list = Board.objects.all()\n",
    "board_list"
   ]
  },
  {
   "cell_type": "markdown",
   "id": "7d4d9e08",
   "metadata": {},
   "source": [
    "### filter 걸어서 조회하기(where)"
   ]
  },
  {
   "cell_type": "code",
   "execution_count": 16,
   "id": "0c3d1a29",
   "metadata": {},
   "outputs": [
    {
     "data": {
      "text/plain": [
       "<QuerySet [<Board: Board object (4)>]>"
      ]
     },
     "execution_count": 16,
     "metadata": {},
     "output_type": "execute_result"
    }
   ],
   "source": [
    "board_list = Board.objects.filter(title=\"게시글\")\n",
    "board_list"
   ]
  },
  {
   "cell_type": "code",
   "execution_count": 21,
   "id": "14e7fd9e",
   "metadata": {},
   "outputs": [
    {
     "data": {
      "text/plain": [
       "<QuerySet [<Board: Board object (4)>, <Board: Board object (3)>, <Board: Board object (2)>, <Board: Board object (1)>]>"
      ]
     },
     "execution_count": 21,
     "metadata": {},
     "output_type": "execute_result"
    }
   ],
   "source": [
    "board_list = Board.objects.order_by('-created_at') # order by desc\n",
    "board_list"
   ]
  },
  {
   "cell_type": "code",
   "execution_count": 22,
   "id": "8d8ebea2",
   "metadata": {},
   "outputs": [
    {
     "data": {
      "text/plain": [
       "<QuerySet [<Board: Board object (2)>, <Board: Board object (1)>]>"
      ]
     },
     "execution_count": 22,
     "metadata": {},
     "output_type": "execute_result"
    }
   ],
   "source": [
    "board_list = Board.objects.order_by('-created_at')[2:4] # order by desc limit(2) offset(2)\n",
    "board_list"
   ]
  },
  {
   "cell_type": "markdown",
   "id": "beeb6dc4",
   "metadata": {},
   "source": [
    "###  filter not 표시"
   ]
  },
  {
   "cell_type": "code",
   "execution_count": 33,
   "id": "c96af66b",
   "metadata": {},
   "outputs": [
    {
     "data": {
      "text/plain": [
       "<QuerySet [<Board: Board object (1)>, <Board: Board object (2)>, <Board: Board object (3)>, <Board: Board object (5)>, <Board: Board object (6)>, <Board: Board object (7)>]>"
      ]
     },
     "execution_count": 33,
     "metadata": {},
     "output_type": "execute_result"
    }
   ],
   "source": [
    "board_list = Board.objects.exclude(title=\"게시글\")\n",
    "board_list"
   ]
  },
  {
   "cell_type": "code",
   "execution_count": null,
   "id": "e1594bb6",
   "metadata": {},
   "outputs": [],
   "source": [
    "from django.db.models import Q"
   ]
  },
  {
   "cell_type": "code",
   "execution_count": 40,
   "id": "89155ccd",
   "metadata": {},
   "outputs": [
    {
     "data": {
      "text/plain": [
       "<QuerySet [<Board: Board object (1)>, <Board: Board object (2)>, <Board: Board object (3)>, <Board: Board object (5)>, <Board: Board object (6)>, <Board: Board object (7)>]>"
      ]
     },
     "execution_count": 40,
     "metadata": {},
     "output_type": "execute_result"
    }
   ],
   "source": [
    "board_list = Board.objects.filter(~Q(title=\"게시글\"))\n",
    "board_list"
   ]
  },
  {
   "cell_type": "markdown",
   "id": "4be703d0",
   "metadata": {},
   "source": [
    "# 관계 추가하기"
   ]
  },
  {
   "cell_type": "markdown",
   "id": "85c3e973",
   "metadata": {},
   "source": [
    "1번 댓글에 댓글을 3가지 이상 입력하세요"
   ]
  },
  {
   "cell_type": "code",
   "execution_count": 49,
   "id": "3225be9e",
   "metadata": {},
   "outputs": [
    {
     "ename": "NameError",
     "evalue": "name 'Comment' is not defined",
     "output_type": "error",
     "traceback": [
      "\u001b[0;31m---------------------------------------------------------------------------\u001b[0m",
      "\u001b[0;31mNameError\u001b[0m                                 Traceback (most recent call last)",
      "Cell \u001b[0;32mIn[49], line 1\u001b[0m\n\u001b[0;32m----> 1\u001b[0m comment \u001b[38;5;241m=\u001b[39m \u001b[43mComment\u001b[49m(\n\u001b[1;32m      2\u001b[0m     board_id \u001b[38;5;241m=\u001b[39m \u001b[38;5;241m1\u001b[39m,\n\u001b[1;32m      3\u001b[0m     content \u001b[38;5;241m=\u001b[39m \u001b[38;5;124m\"\u001b[39m\u001b[38;5;124m댓글 내용\u001b[39m\u001b[38;5;124m\"\u001b[39m\n\u001b[1;32m      4\u001b[0m )\n",
      "\u001b[0;31mNameError\u001b[0m: name 'Comment' is not defined"
     ]
    }
   ],
   "source": [
    "comment = Comment(\n",
    "    board_id = 1,\n",
    "    content = \"댓글 내용\"\n",
    ")"
   ]
  },
  {
   "cell_type": "code",
   "execution_count": null,
   "id": "ec223b0d",
   "metadata": {},
   "outputs": [],
   "source": []
  },
  {
   "cell_type": "code",
   "execution_count": null,
   "id": "d2f2adc1",
   "metadata": {},
   "outputs": [],
   "source": []
  },
  {
   "cell_type": "code",
   "execution_count": null,
   "id": "e26709e1",
   "metadata": {},
   "outputs": [],
   "source": []
  },
  {
   "cell_type": "markdown",
   "id": "8bbd66b1",
   "metadata": {},
   "source": [
    "## "
   ]
  },
  {
   "cell_type": "code",
   "execution_count": null,
   "id": "da9e606c",
   "metadata": {},
   "outputs": [],
   "source": []
  },
  {
   "cell_type": "markdown",
   "id": "161ee011",
   "metadata": {},
   "source": [
    "## 조회하기 고급"
   ]
  },
  {
   "cell_type": "markdown",
   "id": "26de80a3",
   "metadata": {},
   "source": [
    "### 다양한 조건"
   ]
  },
  {
   "cell_type": "markdown",
   "id": "092278d7",
   "metadata": {},
   "source": [
    "#### or"
   ]
  },
  {
   "cell_type": "code",
   "execution_count": 41,
   "id": "d7112380",
   "metadata": {},
   "outputs": [
    {
     "data": {
      "text/plain": [
       "<QuerySet [<Board: Board object (2)>, <Board: Board object (3)>, <Board: Board object (5)>, <Board: Board object (6)>]>"
      ]
     },
     "execution_count": 41,
     "metadata": {},
     "output_type": "execute_result"
    }
   ],
   "source": [
    "board_list = Board.objects.filter(Q(title=\"게시글1\") | Q(title=\"게시글2\"))\n",
    "board_list"
   ]
  },
  {
   "cell_type": "markdown",
   "id": "c9354b7e",
   "metadata": {},
   "source": [
    "##### and 와 연산자"
   ]
  },
  {
   "cell_type": "markdown",
   "id": "eca90913",
   "metadata": {},
   "source": [
    "- gte: greater than equal\n",
    "- lte: less than equal\n",
    "- lt: less than\n",
    "- gt: greater than"
   ]
  },
  {
   "cell_type": "code",
   "execution_count": 44,
   "id": "0541f54e",
   "metadata": {},
   "outputs": [
    {
     "data": {
      "text/plain": [
       "<QuerySet [<Board: Board object (5)>]>"
      ]
     },
     "execution_count": 44,
     "metadata": {},
     "output_type": "execute_result"
    }
   ],
   "source": [
    "board_list = Board.objects.filter(Q(title__endswith=\"글1\") & Q(id__gte=3))\n",
    "board_list"
   ]
  },
  {
   "cell_type": "code",
   "execution_count": 46,
   "id": "7c882d6b",
   "metadata": {},
   "outputs": [
    {
     "data": {
      "text/plain": [
       "<QuerySet [<Board: Board object (2)>, <Board: Board object (3)>, <Board: Board object (4)>, <Board: Board object (5)>, <Board: Board object (6)>, <Board: Board object (7)>]>"
      ]
     },
     "execution_count": 46,
     "metadata": {},
     "output_type": "execute_result"
    }
   ],
   "source": [
    "board_list = Board.objects.filter(Q(title__startswith=\"게시\") & Q(created_at__year=2022))\n",
    "board_list"
   ]
  },
  {
   "cell_type": "code",
   "execution_count": null,
   "id": "aa834857",
   "metadata": {},
   "outputs": [],
   "source": []
  },
  {
   "cell_type": "code",
   "execution_count": null,
   "id": "0c4806bf",
   "metadata": {},
   "outputs": [],
   "source": []
  },
  {
   "cell_type": "code",
   "execution_count": null,
   "id": "0dcb320d",
   "metadata": {},
   "outputs": [],
   "source": []
  },
  {
   "cell_type": "code",
   "execution_count": null,
   "id": "170f3c71",
   "metadata": {},
   "outputs": [],
   "source": []
  },
  {
   "cell_type": "code",
   "execution_count": null,
   "id": "bbe75a31",
   "metadata": {},
   "outputs": [],
   "source": []
  },
  {
   "cell_type": "code",
   "execution_count": null,
   "id": "ad243311",
   "metadata": {},
   "outputs": [],
   "source": []
  },
  {
   "cell_type": "code",
   "execution_count": 126,
   "id": "521b25ba",
   "metadata": {},
   "outputs": [
    {
     "data": {
      "text/plain": [
       "<QuerySet [<Question: Question(1): 뭐가 바뀌었니?>, <Question: Question(3): 마지막 질문이 뭔가요?>, <Question: Question(4): 뭐가 바뀌었니?>, <Question: Question(6): 마지막 질문이 뭔가요?>, <Question: Question(7): 뭐가 바뀌었니?>, <Question: Question(9): 마지막 질문이 뭔가요?>, <Question: Question(10): 뭐가 바뀌었니?>, <Question: Question(12): 마지막 질문이 뭔가요?>]>"
      ]
     },
     "execution_count": 126,
     "metadata": {},
     "output_type": "execute_result"
    }
   ],
   "source": [
    "\n",
    "\n",
    "q_4 = Question.objects.filter(~Q(question_text__startswith='django')).all()\n",
    "q_4"
   ]
  },
  {
   "cell_type": "markdown",
   "id": "fbdbbbf9",
   "metadata": {},
   "source": [
    "# 관계 맺기"
   ]
  },
  {
   "cell_type": "code",
   "execution_count": 127,
   "id": "e3e01bfc",
   "metadata": {},
   "outputs": [
    {
     "data": {
      "text/plain": [
       "<Question: Question(1): 뭐가 바뀌었니?>"
      ]
     },
     "execution_count": 127,
     "metadata": {},
     "output_type": "execute_result"
    }
   ],
   "source": [
    "q = Question.objects.get(id=1)\n",
    "q"
   ]
  },
  {
   "cell_type": "code",
   "execution_count": 120,
   "id": "6ff6499f",
   "metadata": {},
   "outputs": [
    {
     "data": {
      "text/plain": [
       "[<Question: Question(1): 뭐가 바뀌었니?>, <Question: Question(2): django 재밌어요?>]"
      ]
     },
     "execution_count": 120,
     "metadata": {},
     "output_type": "execute_result"
    }
   ],
   "source": [
    "result = Question.objects.raw('SELECT * FROM polls_question')\n",
    "result[:2]"
   ]
  },
  {
   "cell_type": "code",
   "execution_count": 128,
   "id": "2ce87892",
   "metadata": {},
   "outputs": [],
   "source": [
    "c = Choice(\n",
    "    question=q,\n",
    "    choice_text=\"답안1번\"\n",
    ")\n",
    "c.save()"
   ]
  },
  {
   "cell_type": "code",
   "execution_count": 121,
   "id": "f0fad7ba",
   "metadata": {},
   "outputs": [
    {
     "data": {
      "text/plain": [
       "<QuerySet [<Question: Question(1): 뭐가 바뀌었니?>, <Question: Question(2): django 재밌어요?>, <Question: Question(3): 마지막 질문이 뭔가요?>, <Question: Question(4): 뭐가 바뀌었니?>, <Question: Question(5): django 재밌어요?>, <Question: Question(6): 마지막 질문이 뭔가요?>, <Question: Question(7): 뭐가 바뀌었니?>, <Question: Question(8): django 재밌어요?>, <Question: Question(9): 마지막 질문이 뭔가요?>, <Question: Question(10): 뭐가 바뀌었니?>, <Question: Question(11): django 재밌어요?>, <Question: Question(12): 마지막 질문이 뭔가요?>]>"
      ]
     },
     "execution_count": 121,
     "metadata": {},
     "output_type": "execute_result"
    }
   ],
   "source": [
    "from django.db.models import Count, Sum\n",
    "from django.db.models import Q, F\n",
    "\n",
    "q = Question.objects.annotate(\n",
    "    max_count=Count('question_text'), changed_name=F('question_text'), sum_id=Sum('id')\n",
    ").all()\n",
    "q"
   ]
  },
  {
   "cell_type": "code",
   "execution_count": 129,
   "id": "36c3c342",
   "metadata": {},
   "outputs": [],
   "source": [
    "c = Choice(\n",
    "    question=q,\n",
    "    choice_text=\"답안2번\"\n",
    ")\n",
    "c.save()"
   ]
  },
  {
   "cell_type": "code",
   "execution_count": 130,
   "id": "03c2d4c0",
   "metadata": {},
   "outputs": [],
   "source": [
    "q2 = Question.objects.get(id=2)\n",
    "\n",
    "c = Choice(\n",
    "    question=q2,\n",
    "    choice_text=\"답안2-1번\"\n",
    ")\n",
    "c.save()"
   ]
  },
  {
   "cell_type": "code",
   "execution_count": 131,
   "id": "1cfd3d94",
   "metadata": {},
   "outputs": [
    {
     "data": {
      "text/plain": [
       "<QuerySet [<Choice: Choice(2): 답안을 바꿔버러요>, <Choice: Choice(3): 답안2-1번>, <Choice: Choice(4): 답안1번>, <Choice: Choice(5): 답안2번>, <Choice: Choice(6): 답안2-1번>, <Choice: Choice(7): 답안1번>, <Choice: Choice(8): 답안2번>, <Choice: Choice(9): 답안2-1번>, <Choice: Choice(10): 이렇게 넣을 수도 있어요.dddsss>, <Choice: Choice(11): 답안1번>, <Choice: Choice(12): 답안2번>, <Choice: Choice(13): 답안2-1번>]>"
      ]
     },
     "execution_count": 131,
     "metadata": {},
     "output_type": "execute_result"
    }
   ],
   "source": [
    "Choice.objects.all()"
   ]
  },
  {
   "cell_type": "code",
   "execution_count": 132,
   "id": "dadb5e33",
   "metadata": {},
   "outputs": [
    {
     "data": {
      "text/plain": [
       "<QuerySet [<Choice: Choice(2): 답안을 바꿔버러요>, <Choice: Choice(4): 답안1번>, <Choice: Choice(5): 답안2번>, <Choice: Choice(7): 답안1번>, <Choice: Choice(8): 답안2번>, <Choice: Choice(10): 이렇게 넣을 수도 있어요.dddsss>, <Choice: Choice(11): 답안1번>, <Choice: Choice(12): 답안2번>]>"
      ]
     },
     "execution_count": 132,
     "metadata": {},
     "output_type": "execute_result"
    }
   ],
   "source": [
    "Choice.objects.filter(question=q)"
   ]
  },
  {
   "cell_type": "code",
   "execution_count": 133,
   "id": "934f4824",
   "metadata": {},
   "outputs": [
    {
     "data": {
      "text/plain": [
       "<QuerySet [<Choice: Choice(2): 답안을 바꿔버러요>, <Choice: Choice(4): 답안1번>, <Choice: Choice(5): 답안2번>, <Choice: Choice(7): 답안1번>, <Choice: Choice(8): 답안2번>, <Choice: Choice(10): 이렇게 넣을 수도 있어요.dddsss>, <Choice: Choice(11): 답안1번>, <Choice: Choice(12): 답안2번>]>"
      ]
     },
     "execution_count": 133,
     "metadata": {},
     "output_type": "execute_result"
    }
   ],
   "source": [
    "Choice.objects.filter(question_id=q.id)"
   ]
  },
  {
   "cell_type": "code",
   "execution_count": 134,
   "id": "272a03c5",
   "metadata": {},
   "outputs": [
    {
     "data": {
      "text/plain": [
       "<Question: Question(1): 뭐가 바뀌었니?>"
      ]
     },
     "execution_count": 134,
     "metadata": {},
     "output_type": "execute_result"
    }
   ],
   "source": [
    "q = Question.objects.get(id=1)\n",
    "q"
   ]
  },
  {
   "cell_type": "code",
   "execution_count": 135,
   "id": "1fbbec2b",
   "metadata": {},
   "outputs": [
    {
     "data": {
      "text/plain": [
       "<QuerySet [<Choice: Choice(2): 답안을 바꿔버러요>, <Choice: Choice(4): 답안1번>, <Choice: Choice(5): 답안2번>, <Choice: Choice(7): 답안1번>, <Choice: Choice(8): 답안2번>, <Choice: Choice(10): 이렇게 넣을 수도 있어요.dddsss>, <Choice: Choice(11): 답안1번>, <Choice: Choice(12): 답안2번>]>"
      ]
     },
     "execution_count": 135,
     "metadata": {},
     "output_type": "execute_result"
    }
   ],
   "source": [
    "# 연관지어 가져오기\n",
    "q.choice_set.all()"
   ]
  },
  {
   "cell_type": "code",
   "execution_count": 29,
   "id": "06d5491e",
   "metadata": {},
   "outputs": [
    {
     "data": {
      "text/plain": [
       "<Choice: Choice(10): 이렇게 넣을 수도 있어요.>"
      ]
     },
     "execution_count": 29,
     "metadata": {},
     "output_type": "execute_result"
    }
   ],
   "source": [
    "q.choice_set.create(choice_text='이렇게 넣을 수도 있어요.', votes=0)"
   ]
  },
  {
   "cell_type": "code",
   "execution_count": 30,
   "id": "fefda42e",
   "metadata": {},
   "outputs": [
    {
     "data": {
      "text/plain": [
       "<QuerySet [<Choice: Choice(1): 답안1번>, <Choice: Choice(2): 답안2번>, <Choice: Choice(4): 답안1번>, <Choice: Choice(5): 답안2번>, <Choice: Choice(7): 답안1번>, <Choice: Choice(8): 답안2번>, <Choice: Choice(10): 이렇게 넣을 수도 있어요.>]>"
      ]
     },
     "execution_count": 30,
     "metadata": {},
     "output_type": "execute_result"
    }
   ],
   "source": [
    "q.choice_set.all()"
   ]
  },
  {
   "cell_type": "code",
   "execution_count": 31,
   "id": "3f5848f2",
   "metadata": {},
   "outputs": [
    {
     "data": {
      "text/plain": [
       "7"
      ]
     },
     "execution_count": 31,
     "metadata": {},
     "output_type": "execute_result"
    }
   ],
   "source": [
    "q.choice_set.count()"
   ]
  },
  {
   "cell_type": "code",
   "execution_count": 38,
   "id": "60d59c53",
   "metadata": {},
   "outputs": [
    {
     "data": {
      "text/plain": [
       "<QuerySet [<Choice: Choice(1): 답안1번>]>"
      ]
     },
     "execution_count": 38,
     "metadata": {},
     "output_type": "execute_result"
    }
   ],
   "source": [
    "c1 = q.choice_set.filter(id=1)\n",
    "c1"
   ]
  },
  {
   "cell_type": "code",
   "execution_count": 39,
   "id": "4efaee52",
   "metadata": {},
   "outputs": [
    {
     "data": {
      "text/plain": [
       "(1, {'polls.Choice': 1})"
      ]
     },
     "execution_count": 39,
     "metadata": {},
     "output_type": "execute_result"
    }
   ],
   "source": [
    "c1.delete()"
   ]
  },
  {
   "cell_type": "code",
   "execution_count": 42,
   "id": "b3afccac",
   "metadata": {},
   "outputs": [
    {
     "data": {
      "text/plain": [
       "(<QuerySet [<Choice: Choice(2): 답안2번>, <Choice: Choice(4): 답안1번>, <Choice: Choice(5): 답안2번>, <Choice: Choice(7): 답안1번>, <Choice: Choice(8): 답안2번>, <Choice: Choice(10): 이렇게 넣을 수도 있어요.>]>,\n",
       " 6)"
      ]
     },
     "execution_count": 42,
     "metadata": {},
     "output_type": "execute_result"
    }
   ],
   "source": [
    "q.choice_set.all(), q.choice_set.count()"
   ]
  },
  {
   "cell_type": "code",
   "execution_count": 57,
   "id": "c04bf0a7",
   "metadata": {},
   "outputs": [
    {
     "data": {
      "text/plain": [
       "<Choice: Choice(2): 답안2번>"
      ]
     },
     "execution_count": 57,
     "metadata": {},
     "output_type": "execute_result"
    }
   ],
   "source": [
    "c2 = q.choice_set.get(id=2)\n",
    "c2"
   ]
  },
  {
   "cell_type": "code",
   "execution_count": 66,
   "id": "597f6b1e",
   "metadata": {},
   "outputs": [],
   "source": [
    "c2.choice_text = \"답안을 바꿔버러요\"\n",
    "c2.save()"
   ]
  },
  {
   "cell_type": "code",
   "execution_count": 67,
   "id": "884c22b9",
   "metadata": {},
   "outputs": [
    {
     "data": {
      "text/plain": [
       "<QuerySet [<Choice: Choice(2): 답안을 바꿔버러요>, <Choice: Choice(4): 답안1번>, <Choice: Choice(5): 답안2번>, <Choice: Choice(7): 답안1번>, <Choice: Choice(8): 답안2번>, <Choice: Choice(10): 이렇게 넣을 수도 있어요.>]>"
      ]
     },
     "execution_count": 67,
     "metadata": {},
     "output_type": "execute_result"
    }
   ],
   "source": [
    "q.choice_set.all()"
   ]
  },
  {
   "cell_type": "code",
   "execution_count": 75,
   "id": "65f35028",
   "metadata": {},
   "outputs": [
    {
     "data": {
      "text/plain": [
       "<QuerySet [<Question: Question(9): 마지막 질문이 뭔가요?>, <Question: Question(8): django 재밌어요?>, <Question: Question(7): 뭐가 바뀌었니?>]>"
      ]
     },
     "execution_count": 75,
     "metadata": {},
     "output_type": "execute_result"
    }
   ],
   "source": []
  },
  {
   "cell_type": "code",
   "execution_count": null,
   "id": "acb5b2e8",
   "metadata": {},
   "outputs": [],
   "source": []
  },
  {
   "cell_type": "code",
   "execution_count": 25,
   "id": "145a4e09",
   "metadata": {},
   "outputs": [],
   "source": [
    "# db 확인하자"
   ]
  },
  {
   "cell_type": "code",
   "execution_count": 27,
   "id": "4136290b",
   "metadata": {},
   "outputs": [
    {
     "data": {
      "text/plain": [
       "'1193 초 전'"
      ]
     },
     "execution_count": 27,
     "metadata": {},
     "output_type": "execute_result"
    }
   ],
   "source": [
    "q.published_seconds()"
   ]
  },
  {
   "cell_type": "code",
   "execution_count": null,
   "id": "b4622dcc",
   "metadata": {},
   "outputs": [],
   "source": []
  }
 ],
 "metadata": {
  "kernelspec": {
   "display_name": "Python 3 (ipykernel)",
   "language": "python",
   "name": "python3"
  },
  "language_info": {
   "codemirror_mode": {
    "name": "ipython",
    "version": 3
   },
   "file_extension": ".py",
   "mimetype": "text/x-python",
   "name": "python",
   "nbconvert_exporter": "python",
   "pygments_lexer": "ipython3",
   "version": "3.11.1"
  }
 },
 "nbformat": 4,
 "nbformat_minor": 5
}
