{
 "cells": [
  {
   "cell_type": "markdown",
   "id": "7a557d33",
   "metadata": {},
   "source": [
    "# django 불러오기"
   ]
  },
  {
   "cell_type": "code",
   "execution_count": null,
   "id": "159125a1",
   "metadata": {},
   "outputs": [],
   "source": [
    "import os, sys\n",
    "PWD = os.getenv('PWD')\n",
    "\n",
    "PROJ_MISSING_MSG = \"\"\"Set an enviroment variable:\\n\n",
    "`DJANGO_PROJECT=your_project_name`\\n\n",
    "or call:\\n\n",
    "`init_django(your_project_name)`\n",
    "\"\"\"\n",
    "\n",
    "def init_django(project_name=None):\n",
    "    os.chdir(PWD)\n",
    "    project_name = project_name or os.environ.get('DJANGO_PROJECT') or None\n",
    "    if project_name == None:\n",
    "        raise Exception(PROJ_MISSING_MSG)\n",
    "    sys.path.insert(0, os.getenv('PWD'))\n",
    "    os.environ.setdefault('DJANGO_SETTINGS_MODULE', f'{project_name}.settings')\n",
    "    os.environ[\"DJANGO_ALLOW_ASYNC_UNSAFE\"] = \"true\"\n",
    "    import django\n",
    "    django.setup()"
   ]
  },
  {
   "cell_type": "code",
   "execution_count": null,
   "id": "c3667237",
   "metadata": {
    "pycharm": {
     "name": ""
    }
   },
   "outputs": [],
   "source": [
    "init_django('mydjango_project')"
   ]
  },
  {
   "cell_type": "markdown",
   "id": "62da1dd1",
   "metadata": {},
   "source": [
    "# model import"
   ]
  },
  {
   "cell_type": "code",
   "execution_count": null,
   "id": "6d50fb38",
   "metadata": {},
   "outputs": [],
   "source": [
    "from board.models import Board, Comment"
   ]
  },
  {
   "cell_type": "markdown",
   "id": "53ccf411",
   "metadata": {},
   "source": [
    "# Insert or Update"
   ]
  },
  {
   "cell_type": "code",
   "execution_count": null,
   "id": "b7db172c",
   "metadata": {},
   "outputs": [],
   "source": [
    "board = Board(\n",
    "    title=\"게시글1\",\n",
    "    content=\"내용1\",\n",
    ")"
   ]
  },
  {
   "cell_type": "code",
   "execution_count": null,
   "id": "82c4644a",
   "metadata": {},
   "outputs": [],
   "source": [
    "board.save()"
   ]
  },
  {
   "cell_type": "code",
   "execution_count": null,
   "id": "e05bfcd7",
   "metadata": {},
   "outputs": [],
   "source": [
    "board"
   ]
  },
  {
   "cell_type": "markdown",
   "id": "52b76258",
   "metadata": {},
   "source": [
    "-> 내용 확인"
   ]
  },
  {
   "cell_type": "code",
   "execution_count": null,
   "id": "7b9833ba",
   "metadata": {},
   "outputs": [],
   "source": [
    "board = Board.objects.create(\n",
    "    title=\"게시글2\",\n",
    "    content=\"내용2\"\n",
    ")"
   ]
  },
  {
   "cell_type": "code",
   "execution_count": null,
   "id": "13912437",
   "metadata": {},
   "outputs": [],
   "source": []
  },
  {
   "cell_type": "code",
   "execution_count": null,
   "id": "9cced940",
   "metadata": {},
   "outputs": [],
   "source": [
    "board"
   ]
  },
  {
   "cell_type": "code",
   "execution_count": null,
   "id": "d424e3de",
   "metadata": {},
   "outputs": [],
   "source": [
    "board = Board.objects.create(\n",
    "    title=\"게시글3\",\n",
    "    content=\"내용3\"\n",
    ")"
   ]
  },
  {
   "cell_type": "code",
   "execution_count": null,
   "id": "570df29f",
   "metadata": {},
   "outputs": [],
   "source": [
    "board"
   ]
  },
  {
   "cell_type": "markdown",
   "id": "19207d0a",
   "metadata": {},
   "source": [
    "# 조회하기"
   ]
  },
  {
   "cell_type": "markdown",
   "id": "15381498",
   "metadata": {},
   "source": [
    "## raw query로 조회하기"
   ]
  },
  {
   "cell_type": "code",
   "execution_count": null,
   "id": "e2e0f017",
   "metadata": {},
   "outputs": [],
   "source": [
    "result = Board.objects.raw('SELECT * FROM board_board')\n",
    "result"
   ]
  },
  {
   "cell_type": "markdown",
   "id": "b8d0e2f9",
   "metadata": {},
   "source": [
    "## orm으로 조회하기"
   ]
  },
  {
   "cell_type": "markdown",
   "id": "e38fe1dd",
   "metadata": {},
   "source": [
    "### 전체 조회하기"
   ]
  },
  {
   "cell_type": "code",
   "execution_count": null,
   "id": "86e77f0d",
   "metadata": {
    "scrolled": true
   },
   "outputs": [],
   "source": [
    "board_list = Board.objects.all()\n",
    "board_list"
   ]
  },
  {
   "cell_type": "markdown",
   "id": "5d879cfc",
   "metadata": {},
   "source": [
    "### filter 걸어서 조회하기(where)"
   ]
  },
  {
   "cell_type": "code",
   "execution_count": null,
   "id": "88ac0db0",
   "metadata": {},
   "outputs": [],
   "source": [
    "board_list = Board.objects.filter(title=\"게시글\")\n",
    "board_list"
   ]
  },
  {
   "cell_type": "code",
   "execution_count": null,
   "id": "f031d9ab",
   "metadata": {},
   "outputs": [],
   "source": [
    "board_list = Board.objects.order_by('-created_at') # order by desc\n",
    "board_list"
   ]
  },
  {
   "cell_type": "code",
   "execution_count": null,
   "id": "997ea2fd",
   "metadata": {},
   "outputs": [],
   "source": [
    "board_list = Board.objects.order_by('-created_at')[2:4] # order by desc limit(2) offset(2)\n",
    "board_list"
   ]
  },
  {
   "cell_type": "markdown",
   "id": "2aaf0c49",
   "metadata": {},
   "source": [
    "###  filter not 표시"
   ]
  },
  {
   "cell_type": "code",
   "execution_count": null,
   "id": "ceab9a70",
   "metadata": {},
   "outputs": [],
   "source": [
    "board_list = Board.objects.exclude(title=\"게시글\")\n",
    "board_list"
   ]
  },
  {
   "cell_type": "code",
   "execution_count": null,
   "id": "d6102710",
   "metadata": {},
   "outputs": [],
   "source": [
    "from django.db.models import Q"
   ]
  },
  {
   "cell_type": "code",
   "execution_count": null,
   "id": "70d097ae",
   "metadata": {},
   "outputs": [],
   "source": [
    "board_list = Board.objects.filter(~Q(title=\"게시글\"))\n",
    "board_list"
   ]
  },
  {
   "cell_type": "markdown",
   "id": "c2b745b5",
   "metadata": {},
   "source": [
    "## 조회하기 고급"
   ]
  },
  {
   "cell_type": "markdown",
   "id": "390b48f4",
   "metadata": {},
   "source": [
    "### 다양한 조건"
   ]
  },
  {
   "cell_type": "markdown",
   "id": "59333dc2",
   "metadata": {},
   "source": [
    "#### or"
   ]
  },
  {
   "cell_type": "code",
   "execution_count": null,
   "id": "a5a181b9",
   "metadata": {},
   "outputs": [],
   "source": [
    "board_list = Board.objects.filter(Q(title=\"게시글1\") | Q(title=\"게시글2\"))\n",
    "board_list"
   ]
  },
  {
   "cell_type": "markdown",
   "id": "07a52501",
   "metadata": {},
   "source": [
    "##### and 와 연산자"
   ]
  },
  {
   "cell_type": "markdown",
   "id": "5de20c7a",
   "metadata": {},
   "source": [
    "- gte: greater than equal\n",
    "- lte: less than equal\n",
    "- lt: less than\n",
    "- gt: greater than"
   ]
  },
  {
   "cell_type": "code",
   "execution_count": null,
   "id": "0537f462",
   "metadata": {},
   "outputs": [],
   "source": [
    "board_list = Board.objects.filter(Q(title__endswith=\"글1\") & Q(id__gte=3))\n",
    "board_list"
   ]
  },
  {
   "cell_type": "code",
   "execution_count": null,
   "id": "fe265f65",
   "metadata": {},
   "outputs": [],
   "source": [
    "board_list = Board.objects.filter(Q(title__startswith=\"게시\") & Q(created_at__year=2022))\n",
    "board_list"
   ]
  },
  {
   "cell_type": "markdown",
   "id": "e9e7c8fc",
   "metadata": {},
   "source": [
    "# 관계 추가하기"
   ]
  },
  {
   "cell_type": "markdown",
   "id": "3eeec0dc",
   "metadata": {},
   "source": [
    "1번 댓글에 댓글을 3가지 이상 입력하세요"
   ]
  },
  {
   "cell_type": "code",
   "execution_count": null,
   "id": "6bcd2fd7",
   "metadata": {},
   "outputs": [],
   "source": [
    "comment = Comment(\n",
    "    board_id = 1,\n",
    "    content = \"댓글 내용2\"\n",
    ")\n",
    "comment.save()"
   ]
  },
  {
   "cell_type": "code",
   "execution_count": null,
   "id": "292ce14a",
   "metadata": {},
   "outputs": [],
   "source": [
    "board = Board.objects.get(id=1)\n",
    "comment = Comment.objects.create(\n",
    "    board=board,\n",
    "    content = \"댓글 내용3\"\n",
    ")"
   ]
  },
  {
   "cell_type": "markdown",
   "id": "f6b0c488",
   "metadata": {},
   "source": [
    "## 관계 조회하기"
   ]
  },
  {
   "cell_type": "code",
   "execution_count": null,
   "id": "ee173070",
   "metadata": {},
   "outputs": [],
   "source": [
    "Comment.objects.all()"
   ]
  },
  {
   "cell_type": "code",
   "execution_count": null,
   "id": "b9219e4e",
   "metadata": {},
   "outputs": [],
   "source": [
    "board_list = Board.objects.filter(id__lte=5).prefetch_related('comment_set')\n",
    "board_list"
   ]
  },
  {
   "cell_type": "code",
   "execution_count": null,
   "id": "3b0dfbcc",
   "metadata": {},
   "outputs": [],
   "source": [
    "comment_list = board_list[0].comment_set.all()\n",
    "comment_list"
   ]
  },
  {
   "cell_type": "code",
   "execution_count": null,
   "id": "8e0f5cff",
   "metadata": {},
   "outputs": [],
   "source": [
    "comment = comment_list[0]\n",
    "comment.board"
   ]
  }
 ],
 "metadata": {
  "kernelspec": {
   "display_name": "Python 3 (ipykernel)",
   "language": "python",
   "name": "python3"
  },
  "language_info": {
   "codemirror_mode": {
    "name": "ipython",
    "version": 3
   },
   "file_extension": ".py",
   "mimetype": "text/x-python",
   "name": "python",
   "nbconvert_exporter": "python",
   "pygments_lexer": "ipython3",
   "version": "3.11.1"
  }
 },
 "nbformat": 4,
 "nbformat_minor": 5
}
